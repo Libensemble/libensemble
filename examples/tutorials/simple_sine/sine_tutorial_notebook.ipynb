{
 "cells": [
  {
   "cell_type": "markdown",
   "metadata": {},
   "source": [
    "Simple Local Sine Tutorial\n",
    "-------------------------------\n",
    "\n",
    "This introductory tutorial demonstrates the capability to perform ensembles of\n",
    "calculations in parallel using libEnsemble.\n",
    "\n",
    "The foundation of writing libEnsemble routines is accounting for four components:\n",
    "\n",
    "   1. The *generator function* or ``gen_f`` produces values for simulations.\n",
    "   2. The *simulator function* or ``sim_f`` performs simulations based on values from the generator.\n",
    "   3. The *allocation function* or ``alloc_f`` decides which of the previous two functions should be called, when.\n",
    "   4. The *calling script* defines parameters for libEnsemble and these functions, then calls libEnsemble.\n",
    "   \n",
    "libEnsemble initializes a *manager* process and as many *worker* processes as the\n",
    "user requests. The manager coordinates data-transfer between workers and assigns\n",
    "each units of work, consisting of a ``gen_f`` or ``sim_f`` function to run and\n",
    "accompanying data. These functions can perform their work in-line with Python or by\n",
    "launching and controlling user-applications with libEnsemble's Job Controller.\n",
    "Finally, workers pass results back to the manager.\n",
    "\n",
    "For this tutorial, we'll write our ``gen_f`` and ``sim_f`` entirely in Python\n",
    "without other applications. Our ``gen_f`` will produce uniform randomly-sampled\n",
    "values, and our ``sim_f`` will calculate the sine of each. By default we don't\n",
    "need to write a new allocation function. All generated and simulated values\n",
    "alongside other parameters are stored in ``H``, the History array."
   ]
  },
  {
   "cell_type": "markdown",
   "metadata": {},
   "source": [
    "Generator function\n",
    "----------------------\n",
    "\n",
    "Let's begin by writing our `gen_f`, or generator function.\n",
    "\n",
    "An available libEnsemble worker will call this generator function with the following parameters:\n",
    "\n",
    "* `H`: The History array. Updated by the workers\n",
    "  with `gen_f` and `sim_f` inputs and outputs, then returned to the user.\n",
    "  libEnsemble passes `H` to the generator function in case the user wants to\n",
    "  generate new values based on previous data.\n",
    "\n",
    "* `persis_info`: Dictionary with worker-specific\n",
    "  information. In our case this dictionary contains mechanisms called random\n",
    "  streams for generating random numbers.\n",
    "\n",
    "* `gen_specs`: Dictionary with user-defined and\n",
    "  operational parameters for the `gen_f`. The user places function-specific\n",
    "  parameters like boundaries and batch-sizes within the nested `user` dictionary,\n",
    "  while parameters that libEnsemble depends on to operate the `gen_f` are placed\n",
    "  outside `user`.\n",
    "\n",
    "Later on, we'll populate ``gen_specs`` and ``persis_info`` in our calling script."
   ]
  },
  {
   "cell_type": "code",
   "execution_count": null,
   "metadata": {},
   "outputs": [],
   "source": [
    "import numpy as np\n",
    "\n",
    "\n",
    "def gen_random_sample(H, persis_info, gen_specs, _):\n",
    "\n",
    "    # Pull out user parameters to perform calculations\n",
    "    user_specs = gen_specs['user']\n",
    "\n",
    "    # Get lower and upper bounds from gen_specs\n",
    "    lower = user_specs['lower']\n",
    "    upper = user_specs['upper']\n",
    "\n",
    "    # Determine how many values to generate\n",
    "    num = len(lower)\n",
    "    batch_size = user_specs['gen_batch_size']\n",
    "\n",
    "    # Create array of 'batch_size' zeros\n",
    "    out = np.zeros(batch_size, dtype=gen_specs['out'])\n",
    "\n",
    "    # Replace those zeros with the random numbers\n",
    "    out['x'] = persis_info['rand_stream'].uniform(lower, upper, (batch_size, num))\n",
    "\n",
    "    # Send back our output and persis_info\n",
    "    return out, persis_info"
   ]
  },
  {
   "cell_type": "markdown",
   "metadata": {},
   "source": [
    "Simulator function\n",
    "---------------------\n",
    "\n",
    "Simulator functions or `sim_f`s perform calculations based on values from the generator function.\n",
    "The only new parameter here is `sim_specs`, which serves a similar purpose to `gen_specs`."
   ]
  },
  {
   "cell_type": "code",
   "execution_count": null,
   "metadata": {},
   "outputs": [],
   "source": [
    "def sim_find_sine(H, persis_info, sim_specs, _):\n",
    "\n",
    "    # Create an output array of a single zero\n",
    "    out = np.zeros(1, dtype=sim_specs['out'])\n",
    "\n",
    "    # Set the zero to the sine of the input value stored in H\n",
    "    out['y'] = np.sin(H['x'])\n",
    "\n",
    "    # Send back our output and persis_info\n",
    "    return out, persis_info"
   ]
  },
  {
   "cell_type": "markdown",
   "metadata": {},
   "source": [
    "Calling Script\n",
    "--------------\n",
    "\n",
    "Our calling script contains configuration for libEnsemble, the generator function, and the simulator function. It alsos performs the primary libEnsemble function call to initiate ensemble computation.\n",
    "\n",
    "In a dictionary called `libE_specs` we specify the number of workers and the type of manager/worker communication libEnsemble will use. The communication method `local` refers to Python's Multiprocessing.\n",
    "\n",
    "We configure the settings and specifications for our `sim_f` and `gen_f` functions in the `gen_specs` and\n",
    "`sim_specs` dictionaries, which we saw previously being passed to our functions. These dictionaries also describe to libEnsemble what inputs and outputs from those functions to expect.\n",
    "\n",
    "Recall that each worker is assigned an entry in the `persis_info` dictionary that, in this tutorial, contains a ``RandomState()`` random stream for uniform random sampling. We populate that dictionary here using a utility from\n",
    "the `tools` module. Finally, we specify the circumstances where libEnsemble should stop execution in `exit_criteria`."
   ]
  },
  {
   "cell_type": "code",
   "execution_count": null,
   "metadata": {},
   "outputs": [],
   "source": [
    "from libensemble.libE import libE\n",
    "from libensemble.tools import add_unique_random_streams\n",
    "from tutorial_gen import gen_random_sample\n",
    "from tutorial_sim import sim_find_sine\n",
    "\n",
    "nworkers = 4\n",
    "libE_specs = {'nworkers': nworkers, 'comms': 'local'}\n",
    "\n",
    "gen_specs = {\n",
    "    'gen_f': gen_random_sample,  # Our generator function\n",
    "    'out': [('x', float, (1,))],  # gen_f output (name, type, size).\n",
    "    'user': {\n",
    "        'lower': np.array([-3]),  # random sampling lower bound\n",
    "        'upper': np.array([3]),  # random sampling upper bound\n",
    "        'gen_batch_size': 5,  # number of values gen_f will generate per call\n",
    "    },\n",
    "}\n",
    "\n",
    "sim_specs = {\n",
    "    'sim_f': sim_find_sine,  # Our simulator function\n",
    "    'in': ['x'],  # Input field names. 'x' from gen_f output\n",
    "    'out': [('y', float)],\n",
    "}  # sim_f output. 'y' = sine('x')\n",
    "\n",
    "persis_info = add_unique_random_streams({}, nworkers + 1)  # Initialize manager/workers random streams\n",
    "\n",
    "exit_criteria = {'sim_max': 80}  # Stop libEnsemble after 80 simulations"
   ]
  },
  {
   "cell_type": "markdown",
   "metadata": {},
   "source": [
    "With specification complete, libEnsemble can be initiated via the following function call:"
   ]
  },
  {
   "cell_type": "code",
   "execution_count": null,
   "metadata": {},
   "outputs": [],
   "source": [
    "# Primary libEnsemble call. Initiates manager and worker team, begins ensemble-calculations.\n",
    "\n",
    "H, persis_info, flag = libE(sim_specs, gen_specs, exit_criteria, persis_info, libE_specs=libE_specs)"
   ]
  },
  {
   "cell_type": "markdown",
   "metadata": {},
   "source": [
    "The following are a couple of lines for visualizing output data from this libEnsemble routine."
   ]
  },
  {
   "cell_type": "code",
   "execution_count": null,
   "metadata": {
    "scrolled": true
   },
   "outputs": [],
   "source": [
    "print([i for i in H.dtype.fields])\n",
    "print(H[:16])"
   ]
  },
  {
   "cell_type": "code",
   "execution_count": null,
   "metadata": {},
   "outputs": [],
   "source": [
    "import matplotlib.pyplot as plt\n",
    "\n",
    "colors = ['b', 'g', 'r', 'y', 'm', 'c', 'k', 'w']\n",
    "\n",
    "for i in range(1, nworkers + 1):\n",
    "    worker_xy = np.extract(H['sim_worker'] == i, H)\n",
    "    x = [entry.tolist()[0] for entry in worker_xy['x']]\n",
    "    y = [entry for entry in worker_xy['y']]\n",
    "    plt.scatter(x, y, label='Worker {}'.format(i), c=colors[i - 1])\n",
    "\n",
    "plt.title('Sine calculations for a uniformly sampled random distribution')\n",
    "plt.xlabel('x')\n",
    "plt.ylabel('sine(x)')\n",
    "plt.legend(loc='lower right')\n",
    "plt.savefig('tutorial_sines.png')"
   ]
  },
  {
   "cell_type": "code",
   "execution_count": null,
   "metadata": {},
   "outputs": [],
   "source": []
  }
 ],
 "metadata": {
  "kernelspec": {
   "display_name": "Python 3 (ipykernel)",
   "language": "python",
   "name": "python3"
  },
  "language_info": {
   "codemirror_mode": {
    "name": "ipython",
    "version": 3
   },
   "file_extension": ".py",
   "mimetype": "text/x-python",
   "name": "python",
   "nbconvert_exporter": "python",
   "pygments_lexer": "ipython3",
   "version": "3.8.8"
  }
 },
 "nbformat": 4,
 "nbformat_minor": 2
}

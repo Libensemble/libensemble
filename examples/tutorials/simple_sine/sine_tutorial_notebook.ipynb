{
 "cells": [
  {
   "cell_type": "markdown",
   "metadata": {},
   "source": [
    "Before Beginning\n",
    "--------------------\n",
    "\n",
    "Ensure that NumPy, libEnsemble, and (optionally) MatPlotLib are installed via:\n",
    "\n",
    "    pip install libensemble\n",
    "    pip install matplotlib\n",
    "    \n",
    "**Note that for notebooks** the multiprocessing start method should be set to `fork` (default on Linux).\n",
    "To use with `spawn` (default on Windows and macOS), use the `multiprocess` library.\n",
    "\n",
    "If running online (e.g., in Colab), you can install libEnsemble here."
   ]
  },
  {
   "cell_type": "code",
   "execution_count": null,
   "metadata": {},
   "outputs": [],
   "source": [
    "!pip install libensemble"
   ]
  },
  {
   "cell_type": "markdown",
   "metadata": {},
   "source": [
    "Simple Sine Tutorial\n",
    "--------------------\n",
    "\n",
    "The foundation of writing libEnsemble routines is accounting for at least three components:\n",
    "\n",
    "   1. A *generator function*, that produces values for simulations\n",
    "   2. A *simulator function*, that performs simulations based on values from the generator.\n",
    "   3. A *calling script*, for defining settings, fields, and functions, then starting the run\n",
    "   \n",
    "libEnsemble initializes a *manager* process and as many *worker* processes as the user requests.\n",
    "\n",
    "For this tutorial, our generator will produce uniform randomly sampled values, and our simulator will calculate the sine of each. \n",
    "\n",
    "All input and output values for each evaluation are stored in ``H``, the History array.\n"
   ]
  },
  {
   "cell_type": "markdown",
   "metadata": {},
   "source": [
    "Generator function\n",
    "----------------------\n",
    "\n",
    "Let's begin by writing our generator function, or `gen_f`.\n",
    "\n",
    "An available libEnsemble worker will call this generator function with the following parameters:\n",
    "\n",
    "* `H`: A selection of the History array, passed to the generator function in case the user wants to generate new values based on simulation outputs. Since our generator produces random numbers, it’ll be ignored this time.\n",
    "\n",
    "* `persis_info`: Dictionary with worker-specific information. In our case, this dictionary\n",
    "  contains NumPy Random Streams for generating random numbers.\n",
    "\n",
    "* `gen_specs`: Dictionary with user-defined parameters for the generator. Customizable parameters \n",
    "  such as boundaries and batch sizes are placed within the `gen_specs['user']` dictionary.\n",
    "\n",
    "Later on, we'll populate ``gen_specs`` and ``persis_info`` when we initialize libEnsemble.\n",
    "\n",
    "The following code-block is our simple generator function:"
   ]
  },
  {
   "cell_type": "code",
   "execution_count": null,
   "metadata": {},
   "outputs": [],
   "source": [
    "import numpy as np\n",
    "\n",
    "\n",
    "def gen_random_sample(H, persis_info, gen_specs, _):\n",
    "    # Pull out user parameters\n",
    "    user_specs = gen_specs[\"user\"]\n",
    "\n",
    "    # Get lower and upper bounds from gen_specs\n",
    "    lower = user_specs[\"lower\"]\n",
    "    upper = user_specs[\"upper\"]\n",
    "\n",
    "    # Determine how many values to generate\n",
    "    num = len(lower)\n",
    "    batch_size = user_specs[\"gen_batch_size\"]\n",
    "\n",
    "    # Create array of 'batch_size' zeros. Array dtype should match 'out' fields\n",
    "    H_out = np.zeros(batch_size, dtype=gen_specs[\"out\"])\n",
    "\n",
    "    # Set the 'x' output field to contain random numbers, using random stream\n",
    "    H_out[\"x\"] = persis_info[\"rand_stream\"].uniform(lower, upper, (batch_size, num))\n",
    "\n",
    "    # Send back our output and persis_info\n",
    "    return H_out, persis_info"
   ]
  },
  {
   "cell_type": "markdown",
   "metadata": {},
   "source": [
    "Simulator function\n",
    "---------------------\n",
    "\n",
    "Simulator functions or `sim_f`s perform calculations based on values from the generator function.\n",
    "The only new parameter here is `sim_specs`, which serves a similar purpose to `gen_specs`."
   ]
  },
  {
   "cell_type": "code",
   "execution_count": null,
   "metadata": {},
   "outputs": [],
   "source": [
    "def sim_find_sine(H, persis_info, sim_specs, _):\n",
    "    # Create an output array of a single zero\n",
    "    out = np.zeros(1, dtype=sim_specs[\"out\"])\n",
    "\n",
    "    # Set the zero to the sine of the input value stored in H\n",
    "    out[\"y\"] = np.sin(H[\"x\"])\n",
    "\n",
    "    # Send back our output and persis_info\n",
    "    return out, persis_info"
   ]
  },
  {
   "cell_type": "markdown",
   "metadata": {},
   "source": [
    "Calling Script\n",
    "--------------\n",
    "\n",
    "Our calling script contains configuration for libEnsemble, the generator function, and the simulator function. It also performs the primary libEnsemble function call to run the ensemble.\n",
    "\n",
    "In `libE_specs` we specify the number of workers and the type of manager/worker communication libEnsemble will use. The communication method `local` refers to Python's Multiprocessing.\n",
    "\n",
    "We configure our `sim_f` and `gen_f` functions in `gen_specs` and`sim_specs`, which were previously passed to our user functions. These may be defined as objects or dictionaries, and also describe to libEnsemble what inputs and outputs from those functions to expect.\n",
    "\n",
    "We specify the circumstances where libEnsemble should stop execution in `exit_criteria`.\n",
    "\n",
    "Finally, we create the ensemble object, assign random streams, and run the ensemble."
   ]
  },
  {
   "cell_type": "code",
   "execution_count": null,
   "metadata": {},
   "outputs": [],
   "source": [
    "import numpy as np\n",
    "from pprint import pprint\n",
    "\n",
    "# If importing sim and gen from files\n",
    "# from sine_gen import gen_random_sample\n",
    "# from sine_sim import sim_find_sine\n",
    "\n",
    "from libensemble import Ensemble\n",
    "from libensemble.specs import ExitCriteria, GenSpecs, LibeSpecs, SimSpecs\n",
    "\n",
    "libE_specs = LibeSpecs(nworkers=4, comms=\"local\")\n",
    "\n",
    "gen_specs = GenSpecs(\n",
    "    gen_f=gen_random_sample,  # Our generator function\n",
    "    out=[(\"x\", float, (1,))],  # gen_f output (name, type, size)\n",
    "    user={\n",
    "        \"lower\": np.array([-3]),  # lower boundary for random sampling\n",
    "        \"upper\": np.array([3]),  # upper boundary for random sampling\n",
    "        \"gen_batch_size\": 5,  # number of x's gen_f generates per call\n",
    "    },\n",
    ")\n",
    "\n",
    "sim_specs = SimSpecs(\n",
    "    sim_f=sim_find_sine,  # Our simulator function\n",
    "    inputs=[\"x\"],  # Input field names. \"x\" from gen_f output\n",
    "    out=[(\"y\", float)],  # sim_f output. \"y\" = sine(\"x\")\n",
    ")\n",
    "\n",
    "exit_criteria = ExitCriteria(sim_max=80)  # Stop libEnsemble after 80 simulations\n",
    "\n",
    "# Initialize and run the ensemble.\n",
    "ensemble = Ensemble(sim_specs, gen_specs, exit_criteria, libE_specs)\n",
    "ensemble.add_random_streams()  # setup the random streams unique to each worker\n",
    "H, persis_info, flag = ensemble.run()  # start the ensemble. Blocks until completion."
   ]
  },
  {
   "cell_type": "markdown",
   "metadata": {},
   "source": [
    "The following are a couple of lines for visualizing output data from this libEnsemble routine."
   ]
  },
  {
   "cell_type": "code",
   "execution_count": null,
   "metadata": {},
   "outputs": [],
   "source": [
    "# See first 16 results\n",
    "pprint(H[[\"sim_id\", \"x\", \"y\"]][:16])\n",
    "\n",
    "# To see all fields of H\n",
    "# print([i for i in H.dtype.fields])\n",
    "# print(H[:16])"
   ]
  },
  {
   "cell_type": "code",
   "execution_count": null,
   "metadata": {},
   "outputs": [],
   "source": [
    "import matplotlib.pyplot as plt\n",
    "\n",
    "colors = [\"b\", \"g\", \"r\", \"y\", \"m\", \"c\", \"k\", \"w\"]\n",
    "\n",
    "for i in range(1, ensemble.nworkers + 1):\n",
    "    worker_xy = np.extract(H[\"sim_worker\"] == i, H)\n",
    "    x = [entry.tolist()[0] for entry in worker_xy[\"x\"]]\n",
    "    y = [entry for entry in worker_xy[\"y\"]]\n",
    "    plt.scatter(x, y, label=\"Worker {}\".format(i), c=colors[i - 1])\n",
    "\n",
    "plt.title(\"Sine calculations for a uniformly sampled random distribution\")\n",
    "plt.xlabel(\"x\")\n",
    "plt.ylabel(\"sine(x)\")\n",
    "plt.legend(loc=\"lower right\")\n",
    "plt.show()"
   ]
  }
 ],
 "metadata": {
  "kernelspec": {
   "display_name": "Python 3",
   "name": "python3"
  },
  "language_info": {
   "name": "python"
  }
 },
 "nbformat": 4,
 "nbformat_minor": 2
}

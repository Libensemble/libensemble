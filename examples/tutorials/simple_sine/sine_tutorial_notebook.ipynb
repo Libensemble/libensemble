{
 "cells": [
  {
   "cell_type": "markdown",
   "metadata": {},
   "source": [
    "Before Beginning\n",
    "--------------------\n",
    "\n",
    "Ensure that NumPy, libEnsemble, and (optionally) MatPlotLib are installed via:\n",
    "\n",
    "    pip install libensemble\n",
    "    pip install matplotlib"
   ]
  },
  {
   "cell_type": "markdown",
   "metadata": {},
   "source": [
    "Simple Local Sine Tutorial\n",
    "-------------------------------\n",
    "\n",
    "This introductory tutorial demonstrates the capability to perform ensembles of\n",
    "calculations in parallel using libEnsemble.\n",
    "\n",
    "The foundation of writing libEnsemble routines is accounting for at least three components:\n",
    "\n",
    "   1. A *generator function*, that produces values for simulations\n",
    "   2. A *simulator function*, that performs simulations based on values from the generator.\n",
    "   3. A *calling script*, for defining settings, fields, and functions, then starting the run\n",
    "   \n",
    "libEnsemble initializes a *manager* process and as many *worker* processes as the\n",
    "user requests. The manager (via an *allocation function*) coordinates data-transfer between workers and assigns\n",
    "each units of work, consisting of a function to run and\n",
    "accompanying data. These functions perform their work in-line with Python and/or launch and control user applications with libEnsemble's executors.\n",
    "Workers pass results back to the manager.\n",
    "\n",
    "For this tutorial, we'll write our generator and simulator functions entirely in Python\n",
    "without other applications. Our generator will produce uniform randomly sampled\n",
    "values, and our simulator will calculate the sine of each. By default we don't\n",
    "need to write a new allocation function. All generated and simulated values\n",
    "alongside other parameters are stored in ``H``, the History array."
   ]
  },
  {
   "cell_type": "markdown",
   "metadata": {},
   "source": [
    "Generator function\n",
    "----------------------\n",
    "\n",
    "Let's begin by writing our generator function, or `gen_f`.\n",
    "\n",
    "An available libEnsemble worker will call this generator function with the following parameters:\n",
    "\n",
    "* `H`: The History array. A NumPy structured array\n",
    "  for storing information about each point generated and processed in the ensemble.\n",
    "  libEnsemble passes a selection of `H` to the generator function in case the user\n",
    "  wants to generate new values based on previous data.\n",
    "\n",
    "* `persis_info`: Dictionary with worker-specific\n",
    "  information. In our case, this dictionary contains NumPy Random Stream objects\n",
    "  for generating random numbers.\n",
    "\n",
    "* `gen_specs`: Dictionary with user-defined fields and\n",
    "  parameters for the generator. Customizable parameters such as boundaries and batch\n",
    "  sizes are placed within the `gen_specs['user']` dictionary, while input/output fields\n",
    "  and other specifications that libEnsemble depends on to operate the generator are\n",
    "  placed outside `user`.\n",
    "\n",
    "Later on, we'll populate ``gen_specs`` and ``persis_info`` when we initialize libEnsemble.\n",
    "\n",
    "The following code-block is our simple generator function:"
   ]
  },
  {
   "cell_type": "code",
   "execution_count": null,
   "metadata": {},
   "outputs": [],
   "source": [
    "import numpy as np\n",
    "\n",
    "\n",
    "def gen_random_sample(H, persis_info, gen_specs, _):\n",
    "    # underscore parameter for advanced arguments\n",
    "\n",
    "    # Pull out user parameters\n",
    "    user_specs = gen_specs[\"user\"]\n",
    "\n",
    "    # Get lower and upper bounds from gen_specs\n",
    "    lower = user_specs[\"lower\"]\n",
    "    upper = user_specs[\"upper\"]\n",
    "\n",
    "    # Determine how many values to generate\n",
    "    num = len(lower)\n",
    "    batch_size = user_specs[\"gen_batch_size\"]\n",
    "\n",
    "    # Create array of 'batch_size' zeros. Array dtype should match 'out' fields\n",
    "    out = np.zeros(batch_size, dtype=gen_specs[\"out\"])\n",
    "\n",
    "    # Set the 'x' output field to contain random numbers, using random stream\n",
    "    out[\"x\"] = persis_info[\"rand_stream\"].uniform(lower, upper, (batch_size, num))\n",
    "\n",
    "    # Send back our output and persis_info\n",
    "    return out, persis_info"
   ]
  },
  {
   "cell_type": "markdown",
   "metadata": {},
   "source": [
    "Our function creates `batch_size` random numbers uniformly distributed\n",
    "between the `lower` and `upper` bounds. A random stream\n",
    "from `persis_info` is used to generate these values, which are then placed\n",
    "into an output NumPy array that meets the specifications from `gen_specs['out']`."
   ]
  },
  {
   "cell_type": "markdown",
   "metadata": {
    "solution2": "hidden",
    "solution2_first": true
   },
   "source": [
    "### Exercise\n",
    "\n",
    "Write a simple generator function that instead produces random integers, using\n",
    "the `numpy.random.Generator.integers(low, high, size)` function."
   ]
  },
  {
   "cell_type": "code",
   "execution_count": null,
   "metadata": {
    "solution2": "hidden"
   },
   "outputs": [],
   "source": [
    "import numpy as np\n",
    "\n",
    "\n",
    "def gen_random_ints(H, persis_info, gen_specs, _):\n",
    "    user_specs = gen_specs[\"user\"]\n",
    "    lower = user_specs[\"lower\"]\n",
    "    upper = user_specs[\"upper\"]\n",
    "    num = len(lower)\n",
    "    batch_size = user_specs[\"gen_batch_size\"]\n",
    "\n",
    "    out = np.zeros(batch_size, dtype=gen_specs[\"out\"])\n",
    "    out[\"x\"] = persis_info[\"rand_stream\"].integers(lower, upper, (batch_size, num))\n",
    "\n",
    "    return out, persis_info"
   ]
  },
  {
   "cell_type": "markdown",
   "metadata": {},
   "source": [
    "Simulator function\n",
    "---------------------\n",
    "\n",
    "Simulator functions or `sim_f`s perform calculations based on values from the generator function.\n",
    "The only new parameter here is `sim_specs`, which serves a similar purpose to `gen_specs`."
   ]
  },
  {
   "cell_type": "code",
   "execution_count": null,
   "metadata": {},
   "outputs": [],
   "source": [
    "def sim_find_sine(H, persis_info, sim_specs, _):\n",
    "    # Create an output array of a single zero\n",
    "    out = np.zeros(1, dtype=sim_specs[\"out\"])\n",
    "\n",
    "    # Set the zero to the sine of the input value stored in H\n",
    "    out[\"y\"] = np.sin(H[\"x\"])\n",
    "\n",
    "    # Send back our output and persis_info\n",
    "    return out, persis_info"
   ]
  },
  {
   "cell_type": "markdown",
   "metadata": {},
   "source": [
    "Calling Script\n",
    "--------------\n",
    "\n",
    "Our calling script contains configuration for libEnsemble, the generator function, and the simulator function. It alsos performs the primary libEnsemble function call to initiate ensemble computation.\n",
    "\n",
    "In a dictionary called `libE_specs` we specify the number of workers and the type of manager/worker communication libEnsemble will use. The communication method `local` refers to Python's Multiprocessing.\n",
    "\n",
    "We configure the settings and specifications for our `sim_f` and `gen_f` functions in the `gen_specs` and\n",
    "`sim_specs` dictionaries, which we saw previously being passed to our functions. These dictionaries also describe to libEnsemble what inputs and outputs from those functions to expect.\n",
    "\n",
    "Recall that each worker is assigned an entry in the `persis_info` dictionary that, in this tutorial, contains a ``RandomState()`` random stream for uniform random sampling. We populate that dictionary here using a utility from\n",
    "the `tools` module. Finally, we specify the circumstances where libEnsemble should stop execution in `exit_criteria`."
   ]
  },
  {
   "cell_type": "code",
   "execution_count": null,
   "metadata": {},
   "outputs": [],
   "source": [
    "from libensemble.libE import libE\n",
    "from libensemble.tools import add_unique_random_streams\n",
    "from tutorial_gen import gen_random_sample\n",
    "from tutorial_sim import sim_find_sine\n",
    "\n",
    "nworkers = 4\n",
    "libE_specs = {\"nworkers\": nworkers, \"comms\": \"local\"}\n",
    "\n",
    "gen_specs = {\n",
    "    \"gen_f\": gen_random_sample,  # Our generator function\n",
    "    \"out\": [(\"x\", float, (1,))],  # gen_f output (name, type, size).\n",
    "    \"user\": {\n",
    "        \"lower\": np.array([-3]),  # random sampling lower bound\n",
    "        \"upper\": np.array([3]),  # random sampling upper bound\n",
    "        \"gen_batch_size\": 5,  # number of values gen_f will generate per call\n",
    "    },\n",
    "}\n",
    "\n",
    "sim_specs = {\n",
    "    \"sim_f\": sim_find_sine,  # Our simulator function\n",
    "    \"in\": [\"x\"],  # Input field names. 'x' from gen_f output\n",
    "    \"out\": [(\"y\", float)],\n",
    "}  # sim_f output. 'y' = sine('x')\n",
    "\n",
    "persis_info = add_unique_random_streams({}, nworkers + 1)  # Initialize manager/workers random streams\n",
    "\n",
    "exit_criteria = {\"sim_max\": 80}  # Stop libEnsemble after 80 simulations"
   ]
  },
  {
   "cell_type": "markdown",
   "metadata": {},
   "source": [
    "With specification complete, libEnsemble can be initiated via the following function call:"
   ]
  },
  {
   "cell_type": "code",
   "execution_count": null,
   "metadata": {},
   "outputs": [],
   "source": [
    "# Primary libEnsemble call. Initiates manager and worker team, begins ensemble-calculations.\n",
    "\n",
    "H, persis_info, flag = libE(sim_specs, gen_specs, exit_criteria, persis_info, libE_specs=libE_specs)"
   ]
  },
  {
   "cell_type": "markdown",
   "metadata": {},
   "source": [
    "The following are a couple of lines for visualizing output data from this libEnsemble routine."
   ]
  },
  {
   "cell_type": "code",
   "execution_count": null,
   "metadata": {
    "scrolled": true
   },
   "outputs": [],
   "source": [
    "print([i for i in H.dtype.fields])\n",
    "print(H[:16])"
   ]
  },
  {
   "cell_type": "code",
   "execution_count": null,
   "metadata": {},
   "outputs": [],
   "source": [
    "import matplotlib.pyplot as plt\n",
    "\n",
    "colors = [\"b\", \"g\", \"r\", \"y\", \"m\", \"c\", \"k\", \"w\"]\n",
    "\n",
    "for i in range(1, nworkers + 1):\n",
    "    worker_xy = np.extract(H[\"sim_worker\"] == i, H)\n",
    "    x = [entry.tolist()[0] for entry in worker_xy[\"x\"]]\n",
    "    y = [entry for entry in worker_xy[\"y\"]]\n",
    "    plt.scatter(x, y, label=\"Worker {}\".format(i), c=colors[i - 1])\n",
    "\n",
    "plt.title(\"Sine calculations for a uniformly sampled random distribution\")\n",
    "plt.xlabel(\"x\")\n",
    "plt.ylabel(\"sine(x)\")\n",
    "plt.legend(loc=\"lower right\")\n",
    "plt.savefig(\"tutorial_sines.png\")"
   ]
  },
  {
   "cell_type": "code",
   "execution_count": null,
   "metadata": {},
   "outputs": [],
   "source": []
  }
 ],
 "metadata": {
  "kernelspec": {
   "display_name": "Python 3 (ipykernel)",
   "language": "python",
   "name": "python3"
  },
  "language_info": {
   "codemirror_mode": {
    "name": "ipython",
    "version": 3
   },
   "file_extension": ".py",
   "mimetype": "text/x-python",
   "name": "python",
   "nbconvert_exporter": "python",
   "pygments_lexer": "ipython3",
   "version": "3.8.12"
  }
 },
 "nbformat": 4,
 "nbformat_minor": 2
}

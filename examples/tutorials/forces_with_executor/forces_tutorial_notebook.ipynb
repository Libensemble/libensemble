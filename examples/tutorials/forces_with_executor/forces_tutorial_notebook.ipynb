{
 "cells": [
  {
   "cell_type": "markdown",
   "metadata": {},
   "source": [
    "Executor with Electrostatic Forces\n",
    "----------------------------------------\n",
    "\n",
    "This tutorial highlights libEnsemble's capability to execute\n",
    "and monitor external scripts or user applications within simulation or generator\n",
    "functions using a libEnsemble Executor. In this tutorial,\n",
    "our calling script registers a compiled executable that simulates\n",
    "electrostatic forces between a collection of particles. The simulator function\n",
    "launches instances of this executable and reads output files to determine\n",
    "if the run was successful.\n",
    "\n",
    "It is possible to use ``subprocess`` calls from Python to issue\n",
    "commands such as ``jsrun`` or ``aprun`` to run applications. Unfortunately,\n",
    "hard-coding such commands within user scripts isn't portable.\n",
    "Furthermore, many systems like Argonne's Theta do not\n",
    "allow libEnsemble to submit additional tasks from the compute nodes. On these\n",
    "systems, a proxy launch mechanism (such as Balsam) is required.\n",
    "libEnsemble's Executors were developed to directly address such issues.\n",
    "\n",
    "In particular, libEnsemble's MPI Executor can automatically\n",
    "detect available MPI runners and resources, and by default divide them equally among workers.\n",
    "\n",
    "Getting Started\n",
    "------------------\n",
    "\n",
    "**An MPI distribution and ``mpi4py`` are required to use this notebook locally**.\n",
    "\n",
    "The simulation source code ``forces.c`` can be obtained directly from the\n",
    "libEnsemble repository.\n",
    "\n",
    "Assuming MPI and its C compiler ``mpicc`` are available, obtain\n",
    "``forces.c`` and compile it into an executable (``forces.x``) with:"
   ]
  },
  {
   "cell_type": "code",
   "execution_count": null,
   "metadata": {},
   "outputs": [],
   "source": [
    "import subprocess\n",
    "import requests\n",
    "\n",
    "url = 'https://raw.githubusercontent.com/Libensemble/libensemble/main/libensemble/tests/scaling_tests/forces/forces.c'\n",
    "forces = requests.get(url)\n",
    "open('./forces.c', 'wb').write(forces.content)\n",
    "\n",
    "subprocess.run('mpicc -O3 -o forces.x forces.c -lm'.split())"
   ]
  },
  {
   "cell_type": "markdown",
   "metadata": {},
   "source": [
    "Calling Script\n",
    "----------------\n",
    "\n",
    "__*Note: Several of these stand-alone code-cells may not execute properly until each necessary component is defined. The complete libEnsemble routine should still function as expected.*__\n",
    "\n",
    "Let's begin by writing our calling script to parameterize our simulation and\n",
    "generation functions and call libEnsemble. Create a Python file containing:"
   ]
  },
  {
   "cell_type": "code",
   "execution_count": null,
   "metadata": {},
   "outputs": [],
   "source": [
    "#!/usr/bin/env python\n",
    "import os\n",
    "import numpy as np\n",
    "from forces_simf import run_forces  # Sim func from current dir\n",
    "\n",
    "from libensemble.libE import libE\n",
    "from libensemble.gen_funcs.sampling import uniform_random_sample\n",
    "from libensemble.tools import parse_args, add_unique_random_streams\n",
    "from libensemble.executors import MPIExecutor\n",
    "\n",
    "# Parse number of workers, comms type, etc. from arguments\n",
    "nworkers, is_manager, libE_specs, _ = parse_args()\n",
    "\n",
    "# Initialize MPI Executor instance\n",
    "exctr = MPIExecutor()\n",
    "\n",
    "# Register simulation executable with executor\n",
    "sim_app = os.path.join(os.getcwd(), \"forces.x\")\n",
    "exctr.register_app(full_path=sim_app, app_name=\"forces\")"
   ]
  },
  {
   "cell_type": "markdown",
   "metadata": {},
   "source": [
    "On line 15, we instantiate our ``MPIExecutor`` class instance,\n",
    "which can optionally be customized by specifying alternative MPI runners. The\n",
    "auto-detected default should be sufficient.\n",
    "\n",
    "Registering an application is as easy as providing the full file-path and giving\n",
    "it a memorable name. This Executor instance will later be retrieved within our\n",
    "simulation function to launch the registered app.\n",
    "\n",
    "Next define the ``sim_specs`` and ``gen_specs`` data structures. Recall that these\n",
    "are used to specify to libEnsemble what user functions and input/output fields to\n",
    "expect, and also to parameterize function instances without hard-coding:"
   ]
  },
  {
   "cell_type": "code",
   "execution_count": null,
   "metadata": {},
   "outputs": [],
   "source": [
    "# State the sim_f, inputs, outputs\n",
    "sim_specs = {\n",
    "    \"sim_f\": run_forces,  # sim_f, imported above\n",
    "    \"in\": [\"x\"],  # Name of input for sim_f\n",
    "    \"out\": [(\"energy\", float)],  # Name, type of output from sim_f\n",
    "}\n",
    "\n",
    "# State the gen_f, inputs, outputs, additional parameters\n",
    "gen_specs = {\n",
    "    \"gen_f\": uniform_random_sample,  # Generator function\n",
    "    \"in\": [\"sim_id\"],  # Generator input\n",
    "    \"out\": [(\"x\", float, (1,))],  # Name, type, and size of data from gen_f\n",
    "    \"user\": {\n",
    "        \"lb\": np.array([1000]),  # User parameters for the gen_f\n",
    "        \"ub\": np.array([3000]),\n",
    "        \"gen_batch_size\": 8,\n",
    "    },\n",
    "}"
   ]
  },
  {
   "cell_type": "markdown",
   "metadata": {},
   "source": [
    "Our generation function will generate random numbers of particles (between\n",
    "the ``\"lb\"`` and ``\"ub\"`` bounds) for our simulation function to evaluate via our\n",
    "registered application.\n",
    "\n",
    "The following additional ``libE_specs`` setting instructs libEnsemble's workers\n",
    "to each create and work within a separate directory each time they call a simulation\n",
    "function. This helps organize output and also helps prevents workers from overwriting\n",
    "previous results:"
   ]
  },
  {
   "cell_type": "code",
   "execution_count": null,
   "metadata": {},
   "outputs": [],
   "source": [
    "# Create and work inside separate per-simulation directories\n",
    "libE_specs['sim_dirs_make'] = True"
   ]
  },
  {
   "cell_type": "markdown",
   "metadata": {},
   "source": [
    "After configuring ``persis_info`` and\n",
    "``exit_criteria``, we initialize libEnsemble\n",
    "by calling the primary ``libE()`` routine:"
   ]
  },
  {
   "cell_type": "code",
   "execution_count": null,
   "metadata": {},
   "outputs": [],
   "source": [
    "# Instruct libEnsemble to exit after this many simulations\n",
    "exit_criteria = {\"sim_max\": 8}\n",
    "\n",
    "# Seed random streams for each worker, particularly for gen_f\n",
    "persis_info = add_unique_random_streams({}, nworkers + 1)\n",
    "\n",
    "# Launch libEnsemble\n",
    "H, persis_info, flag = libE(sim_specs, gen_specs, exit_criteria, persis_info=persis_info, libE_specs=libE_specs)"
   ]
  },
  {
   "cell_type": "markdown",
   "metadata": {
    "solution2": "hidden",
    "solution2_first": true
   },
   "source": [
    "Exercise\n",
    "----------\n",
    "\n",
    "This may take some additional browsing of the docs to complete.\n",
    "\n",
    "Write an alternative Calling Script similar to above, but with the following differences:\n",
    "\n",
    " 1. Add an additional worker directory setting so workers operate in ``/scratch/ensemble`` instead of the default current working directory.\n",
    " 2. Override the MPIExecutor's detected MPI runner with ``'openmpi'``.\n",
    " 3. Set libEnsemble's logger to print debug messages.\n",
    " 4. Use the ``save_libE_output()`` function to save the History array and ``persis_info`` to files after libEnsemble completes."
   ]
  },
  {
   "cell_type": "code",
   "execution_count": null,
   "metadata": {
    "solution2": "hidden"
   },
   "outputs": [],
   "source": [
    "#!/usr/bin/env python\n",
    "import os\n",
    "import numpy as np\n",
    "from tutorial_forces import run_forces  # Sim func from current dir\n",
    "\n",
    "from libensemble import logger\n",
    "from libensemble.libE import libE\n",
    "from libensemble.gen_funcs.sampling import uniform_random_sample\n",
    "from libensemble.tools import parse_args, add_unique_random_streams, save_libE_output\n",
    "from libensemble.executors import MPIExecutor\n",
    "\n",
    "# Parse number of workers, comms type, etc. from arguments\n",
    "nworkers, is_manager, libE_specs, _ = parse_args()\n",
    "\n",
    "# Adjust logger level\n",
    "logger.set_level('DEBUG')\n",
    "\n",
    "# Initialize MPI Executor instance\n",
    "exctr = MPIExecutor(custom_info={'mpi_runner': 'openmpi'})\n",
    "\n",
    "...\n",
    "\n",
    "# Instruct workers to operate somewhere else on the filesystem\n",
    "libE_specs['ensemble_dir_path'] = \"/scratch/ensemble\"\n",
    "\n",
    "...\n",
    "\n",
    "# Launch libEnsemble\n",
    "H, persis_info, flag = libE(sim_specs, gen_specs, exit_criteria, persis_info=persis_info, libE_specs=libE_specs)\n",
    "\n",
    "if is_manager:\n",
    "    save_libE_output(H, persis_info, __file__, nworkers)"
   ]
  },
  {
   "cell_type": "code",
   "execution_count": null,
   "metadata": {},
   "outputs": [],
   "source": [
    "#!/usr/bin/env python\n",
    "# Write your solution below..."
   ]
  },
  {
   "cell_type": "markdown",
   "metadata": {},
   "source": [
    "Simulation Function\n",
    "-------------------\n",
    "\n",
    "Our simulation function is where we'll use libEnsemble's executor to configure and submit\n",
    "our application for execution. We'll poll this task's state while\n",
    "it runs, and once we've detected it has finished we'll send any results or\n",
    "exit statuses back to the manager.\n",
    "\n",
    "Create another Python file named ``forces_simf.py`` containing the following\n",
    "for starters:"
   ]
  },
  {
   "cell_type": "code",
   "execution_count": null,
   "metadata": {},
   "outputs": [],
   "source": [
    "import numpy as np\n",
    "\n",
    "# To retrieve our MPI Executor instance\n",
    "from libensemble.executors.executor import Executor\n",
    "\n",
    "# Optional status codes to display in libE_stats.txt for each gen or sim\n",
    "from libensemble.message_numbers import WORKER_DONE, TASK_FAILED\n",
    "\n",
    "\n",
    "def run_forces(H, persis_info, sim_specs, libE_info):\n",
    "    calc_status = 0\n",
    "\n",
    "    # Parse out num particles, from generator function\n",
    "    particles = str(int(H[\"x\"][0][0]))\n",
    "\n",
    "    # num particles, timesteps, also using num particles as seed\n",
    "    args = particles + \" \" + str(10) + \" \" + particles\n",
    "\n",
    "    # Retrieve our MPI Executor instance\n",
    "    exctr = Executor.executor\n",
    "\n",
    "    # Submit our forces app for execution\n",
    "    task = exctr.submit(app_name=\"forces\", app_args=args)\n",
    "\n",
    "    # Block until the task finishes\n",
    "    task.wait(timeout=60)"
   ]
  },
  {
   "cell_type": "markdown",
   "metadata": {},
   "source": [
    "We retrieve the generated number of particles from ``H`` and construct\n",
    "an argument string for our launched application. We retrieved our\n",
    "previously instantiated Executor instance from the class definition,\n",
    "where it was automatically stored as an attribute.\n",
    "\n",
    "After submitting the \"forces\" app for execution,\n",
    "a ``Task`` object is returned that correlates with the launched app.\n",
    "This object is roughly equivalent to a Python future, and can be polled, killed,\n",
    "and evaluated in a variety of helpful ways. For now, we're satisfied with waiting\n",
    "for the task to complete via ``task.wait()``.\n",
    "\n",
    "We can assume that afterward, any results are now available to parse. Our application\n",
    "produces a ``forces[particles].stat`` file that contains either energy\n",
    "computations for every time-step or a \"kill\" message if particles were lost, which\n",
    "indicates a failed simulation.\n",
    "\n",
    "To complete our simulation function, parse the last energy value from the output file into\n",
    "a local output History array, and if successful,\n",
    "set the simulation function's exit status ``calc_status``\n",
    "to ``WORKER_DONE``. Otherwise, send back ``NAN`` and a ``TASK_FAILED`` status:"
   ]
  },
  {
   "cell_type": "code",
   "execution_count": null,
   "metadata": {},
   "outputs": [],
   "source": [
    "# Stat file to check for bad runs\n",
    "statfile = \"forces{}.stat\".format(particles)\n",
    "\n",
    "# Try loading final energy reading, set the sim's status\n",
    "try:\n",
    "    data = np.loadtxt(statfile)\n",
    "    final_energy = data[-1]\n",
    "    calc_status = WORKER_DONE\n",
    "except Exception:\n",
    "    final_energy = np.nan\n",
    "    calc_status = TASK_FAILED\n",
    "\n",
    "# Define our output array,  populate with energy reading\n",
    "outspecs = sim_specs[\"out\"]\n",
    "output = np.zeros(1, dtype=outspecs)\n",
    "output[\"energy\"][0] = final_energy\n",
    "\n",
    "# Return final information to worker, for reporting to manager\n",
    "return output, persis_info, calc_status"
   ]
  },
  {
   "cell_type": "markdown",
   "metadata": {},
   "source": [
    "``calc_status`` will be displayed in the ``libE_stats.txt`` log file.\n",
    "\n",
    "That's it! As can be seen, with libEnsemble, it's relatively easy to get started\n",
    "with launching applications. Behind the scenes, libEnsemble evaluates default\n",
    "MPI runners and available resources and divides them among the workers.\n",
    "\n",
    "This completes our calling script and simulation function. Run this routine by running the calling script blocks once the simulation function blocks have been defined.\n",
    "\n",
    "This may take up to a minute to complete. Output files---including ``forces.stat``\n",
    "and files containing ``stdout`` and ``stderr`` content for each task---should\n",
    "appear in the current working directory. Overall workflow information\n",
    "should appear in ``libE_stats.txt`` and ``ensemble.log`` as usual.\n",
    "\n",
    "For example, my ``libE_stats.txt`` resembled::"
   ]
  },
  {
   "cell_type": "raw",
   "metadata": {},
   "source": [
    "  Worker     1: Gen no     1: gen Time: 0.001 Start: ... End: ... Status: Not set\n",
    "  Worker     1: sim_id     0: sim Time: 3.201 Start: ... End: ... Status: Completed\n",
    "  Worker     2: sim_id     1: sim Time: 3.208 Start: ... End: ... Status: Task Failed\n",
    "  Worker     1: sim_id     2: sim Time: 0.228 Start: ... End: ... Status: Completed\n",
    "  Worker     2: sim_id     3: sim Time: 0.236 Start: ... End: ... Status: Task Failed\n",
    "  Worker     1: sim_id     4: sim Time: 0.229 Start: ... End: ... Status: Task Failed\n",
    "  Worker     2: sim_id     5: sim Time: 0.233 Start: ... End: ... Status: Task Failed\n",
    "  Worker     1: sim_id     6: sim Time: 0.227 Start: ... End: ... Status: Completed\n",
    "  Worker     2: sim_id     7: sim Time: 0.228 Start: ... End: ... Status: Task Failed"
   ]
  },
  {
   "cell_type": "markdown",
   "metadata": {},
   "source": [
    "Where ``status`` is set based on the simulation function's returned ``calc_status``.\n",
    "\n",
    "My ``ensemble.log`` (on a ten-core laptop) resembled::"
   ]
  },
  {
   "cell_type": "raw",
   "metadata": {},
   "source": [
    "  [0]  ... libensemble.libE (INFO): Logger initializing: [workerID] precedes each line. [0] = Manager\n",
    "  [0]  ... libensemble.libE (INFO): libE version v0.8.0+dev\n",
    "  [0]  ... libensemble.manager (INFO): Manager initiated on node my_laptop\n",
    "  [0]  ... libensemble.manager (INFO): Manager exit_criteria: {'sim_max': 8}\n",
    "  [1]  ... libensemble.worker (INFO): Worker 1 initiated on node my_laptop\n",
    "  [2]  ... libensemble.worker (INFO): Worker 2 initiated on node my_laptop\n",
    "  [1]  ... libensemble.executors.mpi_executor (INFO): Launching task libe_task_forces_worker1_0: mpirun -hosts my_laptop -np 5 --ppn 5 /Users/.../forces.x 2023 10 2023\n",
    "  [2]  ... libensemble.executors.mpi_executor (INFO): Launching task libe_task_forces_worker2_0: mpirun -hosts my_laptop -np 5 --ppn 5 /Users/.../forces.x 2900 10 2900\n",
    "  [1]  ... libensemble.executors.executor (INFO): Task libe_task_forces_worker1_0 finished with errcode 0 (FINISHED)\n",
    "  [1]  ... libensemble.executors.mpi_executor (INFO): Launching task libe_task_forces_worker1_1: mpirun -hosts my_laptop -np 5 --ppn 5 /Users/.../forces.x 1288 10 1288\n",
    "  [2]  ... libensemble.executors.executor (INFO): Task libe_task_forces_worker2_0 finished with errcode 0 (FINISHED)\n",
    "  [2]  ... libensemble.executors.mpi_executor (INFO): Launching task libe_task_forces_worker2_1: mpirun -hosts my_laptop -np 5 --ppn 5 /Users/.../forces.x 2897 10 2897\n",
    "  [1]  ... libensemble.executors.executor (INFO): Task libe_task_forces_worker1_1 finished with errcode 0 (FINISHED)\n",
    "  [1]  ... libensemble.executors.mpi_executor (INFO): Launching task libe_task_forces_worker1_2: mpirun -hosts my_laptop -np 5 --ppn 5 /Users/.../forces.x 1623 10 1623\n",
    "  [2]  ... libensemble.executors.executor (INFO): Task libe_task_forces_worker2_1 finished with errcode 0 (FINISHED)\n",
    "  [2]  ... libensemble.executors.mpi_executor (INFO): Launching task libe_task_forces_worker2_2: mpirun -hosts my_laptop -np 5 --ppn 5 /Users/.../forces.x 1846 10 1846\n",
    "  [1]  ... libensemble.executors.executor (INFO): Task libe_task_forces_worker1_2 finished with errcode 0 (FINISHED)\n",
    "  [1]  ... libensemble.executors.mpi_executor (INFO): Launching task libe_task_forces_worker1_3: mpirun -hosts my_laptop -np 5 --ppn 5 /Users/.../forces.x 2655 10 2655\n",
    "  [2]  ... libensemble.executors.executor (INFO): Task libe_task_forces_worker2_2 finished with errcode 0 (FINISHED)\n",
    "  [2]  ... libensemble.executors.mpi_executor (INFO): Launching task libe_task_forces_worker2_3: mpirun -hosts my_laptop -np 5 --ppn 5 /Users/.../forces.x 1818 10 1818\n",
    "  [1]  ... libensemble.executors.executor (INFO): Task libe_task_forces_worker1_3 finished with errcode 0 (FINISHED)\n",
    "  [2]  ... libensemble.executors.executor (INFO): Task libe_task_forces_worker2_3 finished with errcode 0 (FINISHED)\n",
    "  [0]  ... libensemble.manager (INFO): Term test tripped: sim_max\n",
    "  [0]  ... libensemble.manager (INFO): Term test tripped: sim_max\n",
    "  [0]  ... libensemble.libE (INFO): Manager total time: 3.939"
   ]
  },
  {
   "cell_type": "markdown",
   "metadata": {},
   "source": [
    "Note again that the ten cores were divided equally among two workers.\n",
    "\n",
    "That concludes this tutorial.\n",
    "Each of these example files can be found in the repository in ``examples/tutorials/forces_with_executor``\n",
    "\n",
    "For further experimentation, we recommend trying out this libEnsemble tutorial\n",
    "workflow on a cluster or multi-node system, since libEnsemble can also manage\n",
    "those resources and is developed to coordinate computations at huge scales.\n",
    "Please feel free to contact us or open an issue on GitHub if this tutorial\n",
    "workflow doesn't work properly on your cluster or other compute resource."
   ]
  },
  {
   "cell_type": "markdown",
   "metadata": {
    "solution2": "hidden",
    "solution2_first": true
   },
   "source": [
    "Exercises\n",
    "-----------\n",
    "\n",
    "These may require additional browsing of the documentation to complete.\n",
    "\n",
    "  1. Adjust ``submit()`` to launch onto two nodes, with eight processes per node.\n",
    "  2. Adjust ``submit()`` again so the app's ``stdout`` and ``stderr`` are written to ``stdout.txt`` and ``stderr.txt`` respectively.\n",
    "  3. Construct a ``while not task.finished:`` loop that periodically sleeps for one second, calls ``task.poll()``,\n",
    "     then reads the output ``.stat`` file, and calls ``task.kill()`` if the output file contains ``\"kill\\n\"``\n",
    "     or if ``task.runtime`` exceeds sixty seconds."
   ]
  },
  {
   "cell_type": "code",
   "execution_count": null,
   "metadata": {
    "solution2": "hidden"
   },
   "outputs": [],
   "source": [
    "    import time\n",
    "    ...\n",
    "    task = exctr.submit(app_name=\"forces\", app_args=args, wait_on_start=True,\n",
    "                        num_nodes=2, procs_per_node=8, stdout=\"stdout.txt\", stderr=\"stderr.txt\")\n",
    "\n",
    "    while not task.finished:\n",
    "      time.sleep(1)\n",
    "      task.poll()\n",
    "\n",
    "      with open(statfile, 'r') as f:\n",
    "        if \"kill\\n\" in f.readlines():\n",
    "          task.kill()\n",
    "\n",
    "      if task.runtime > 60:\n",
    "        task.kill()\n",
    "\n",
    "    ..."
   ]
  },
  {
   "cell_type": "code",
   "execution_count": null,
   "metadata": {},
   "outputs": [],
   "source": [
    "#!/usr/bin/env python\n",
    "# Write your solution below..."
   ]
  }
 ],
 "metadata": {
  "kernelspec": {
   "display_name": "Python 3 (ipykernel)",
   "language": "python",
   "name": "python3"
  },
  "language_info": {
   "codemirror_mode": {
    "name": "ipython",
    "version": 3
   },
   "file_extension": ".py",
   "mimetype": "text/x-python",
   "name": "python",
   "nbconvert_exporter": "python",
   "pygments_lexer": "ipython3",
   "version": "3.8.12"
  }
 },
 "nbformat": 4,
 "nbformat_minor": 2
}

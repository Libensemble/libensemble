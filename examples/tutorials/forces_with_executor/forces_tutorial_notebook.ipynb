{
 "cells": [
  {
   "cell_type": "markdown",
   "metadata": {},
   "source": [
    "# Ensemble with an MPI Application\n",
    "\n",
    "This tutorial highlights the capability to run and monitor user\n",
    "applications using a libEnsemble Executor.\n",
    "\n",
    "Our calling script registers a compiled MPI program that simulates\n",
    "electrostatic forces between a collection of particles. The simulator function\n",
    "launches instances of this executable and reads the result from an output file.\n",
    "\n",
    "libEnsemble's MPI Executor can automatically detect available MPI runners and \n",
    "resources, and by default, divides them equally among workers.\n",
    "\n",
    "**Note that for notebooks** the multiprocessing start method should be set to\n",
    "`fork` (default on Linux). To use with `spawn` (default on Windows and macOS),\n",
    "use the `multiprocess` library.\n",
    "\n",
    "Let's make sure libEnsemble is installed."
   ]
  },
  {
   "cell_type": "code",
   "execution_count": null,
   "metadata": {},
   "outputs": [],
   "source": [
    "!pip install libensemble"
   ]
  },
  {
   "cell_type": "markdown",
   "metadata": {},
   "source": [
    "## Getting Started\n",
    "\n",
    "**An MPI distribution is required to use this notebook**.\n",
    "\n",
    "We recommend using `mpich`, but `Open MPI` can be used. If running in a hosted\n",
    "notebook with Open MPI, the following my be required."
   ]
  },
  {
   "cell_type": "code",
   "execution_count": null,
   "metadata": {},
   "outputs": [],
   "source": [
    "import os\n",
    "\n",
    "os.environ[\"OMPI_ALLOW_RUN_AS_ROOT\"] = \"1\"\n",
    "os.environ[\"OMPI_ALLOW_RUN_AS_ROOT_CONFIRM\"] = \"1\""
   ]
  },
  {
   "cell_type": "markdown",
   "metadata": {},
   "source": [
    "The simulation source code ``forces.c`` can be obtained directly from the\n",
    "libEnsemble repository.\n",
    "\n",
    "Assuming MPI and its C compiler ``mpicc`` are available, obtain\n",
    "``forces.c`` and compile it into an executable (``forces.x``) with:  "
   ]
  },
  {
   "cell_type": "code",
   "execution_count": null,
   "metadata": {},
   "outputs": [],
   "source": [
    "import subprocess\n",
    "import requests\n",
    "\n",
    "# This line is not necessary if forces.c is present in the current directory.\n",
    "url = \"https://raw.githubusercontent.com/Libensemble/libensemble/main/libensemble/tests/scaling_tests/forces/forces_app/forces.c\"\n",
    "forces = requests.get(url)\n",
    "\n",
    "open(\"./forces.c\", \"wb\").write(forces.content)\n",
    "\n",
    "# Compile the forces MPI executable.\n",
    "subprocess.run(\"mpicc -O3 -o forces.x forces.c -lm\".split())"
   ]
  },
  {
   "cell_type": "markdown",
   "metadata": {},
   "source": [
    "### Clean Up\n",
    "\n",
    "This function can be used to ensure any output from previous runs is cleaned up."
   ]
  },
  {
   "cell_type": "code",
   "execution_count": null,
   "metadata": {},
   "outputs": [],
   "source": [
    "# To rerun this notebook, we need to delete the ensemble directory.\n",
    "import os\n",
    "import shutil\n",
    "\n",
    "\n",
    "def cleanup():\n",
    "    output_files = [\"ensemble.log\", \"libE_stats.txt\"]\n",
    "    for file_path in output_files:\n",
    "        try:\n",
    "            os.remove(file_path)\n",
    "        except:\n",
    "            pass\n",
    "    try:\n",
    "        shutil.rmtree(\"ensemble\")\n",
    "    except:\n",
    "        pass"
   ]
  },
  {
   "cell_type": "markdown",
   "metadata": {},
   "source": [
    "## Simulation Function\n",
    "\n",
    "Our simulation function is where we'll use libEnsemble's executor to run our MPI application. We'll wait until this task's finished  and then send the results back to the manager.\n",
    "\n",
    "Running the following cell will load the function `run_forces` into memory. In a standard Python environment (outside of a notebook), this function would be in a separate file (e.g., ``forces_simf.py``) and imported in your calling script."
   ]
  },
  {
   "cell_type": "code",
   "execution_count": null,
   "metadata": {},
   "outputs": [],
   "source": [
    "import numpy as np\n",
    "\n",
    "# Optional status codes to display in libE_stats.txt for each gen or sim\n",
    "from libensemble.message_numbers import WORKER_DONE, TASK_FAILED\n",
    "\n",
    "\n",
    "def read_output(sim_specs):\n",
    "\n",
    "    calc_status = 0\n",
    "\n",
    "    statfile = \"forces.stat\"\n",
    "\n",
    "    # Try loading final energy reading, set the sim's status\n",
    "    try:\n",
    "        data = np.loadtxt(statfile)\n",
    "        final_energy = data[-1]\n",
    "        calc_status = WORKER_DONE\n",
    "    except Exception:\n",
    "        final_energy = np.nan\n",
    "        calc_status = TASK_FAILED\n",
    "\n",
    "    # Define our output array,  populate with energy reading\n",
    "    outspecs = sim_specs[\"out\"]\n",
    "    output = np.zeros(1, dtype=outspecs)\n",
    "    output[\"energy\"][0] = final_energy\n",
    "\n",
    "    return output, calc_status\n",
    "\n",
    "\n",
    "def run_forces(H, persis_info, sim_specs, libE_info):\n",
    "\n",
    "    # Parse out num particles, from generator function\n",
    "    particles = str(int(H[\"x\"][0][0]))\n",
    "\n",
    "    # num particles, timesteps, also using num particles as seed\n",
    "    args = particles + \" \" + str(10) + \" \" + particles\n",
    "\n",
    "    # Retrieve our MPI Executor\n",
    "    exctr = libE_info[\"executor\"]\n",
    "\n",
    "    # Submit our forces app for execution.\n",
    "    # Exclude num_procs to use all cores available to worker\n",
    "    task = exctr.submit(app_name=\"forces\", app_args=args, num_procs=1)\n",
    "\n",
    "    # Block until the task finishes\n",
    "    task.wait()\n",
    "\n",
    "    output, calc_status = read_output(sim_specs)\n",
    "\n",
    "    # Return final information to worker, for reporting to manager\n",
    "    return output, persis_info, calc_status"
   ]
  },
  {
   "cell_type": "markdown",
   "metadata": {},
   "source": [
    "The `run_forces` function retrieves the generated number of particles from ``H`` and\n",
    "constructs an argument string for our launched application. The particle count doubles\n",
    "up as a random number seed here.\n",
    "\n",
    "After submitting the \"forces\" app for execution, a `Task` object is returned.\n",
    "This object can be polled, killed, and evaluated in a variety of helpful ways.\n",
    "For now, we're satisfied with waiting for the task to complete via `task.wait()`.\n",
    "\n",
    "Our application produces a `forces.stat` file that contains energy outputs from the simulation.\n",
    "\n",
    "To complete our simulation function, parse the last energy value from the output file into\n",
    "a local output History array, and if successful, set the simulation function's exit\n",
    "status ``calc_status`` to `WORKER_DONE`. Otherwise, send back `NAN` and a `TASK_FAILED`\n",
    "status:\n",
    "\n",
    "`calc_status` is an optional return value and will be displayed in the `libE_stats.txt` log file."
   ]
  },
  {
   "cell_type": "markdown",
   "metadata": {},
   "source": [
    "## Calling Script\n",
    "\n",
    "Let's begin by writing our calling script to parameterize our simulation and\n",
    "generation functions and run the ensemble."
   ]
  },
  {
   "cell_type": "code",
   "execution_count": null,
   "metadata": {},
   "outputs": [],
   "source": [
    "#!/usr/bin/env python\n",
    "import os\n",
    "import numpy as np\n",
    "from pprint import pprint\n",
    "\n",
    "# from forces_simf import run_forces  # Use is sim function is in a file\n",
    "\n",
    "from libensemble import Ensemble\n",
    "from libensemble.specs import ExitCriteria, GenSpecs, LibeSpecs, SimSpecs\n",
    "from libensemble.gen_funcs.sampling import uniform_random_sample\n",
    "from libensemble.executors import MPIExecutor\n",
    "\n",
    "# Initialize MPI Executor\n",
    "exctr = MPIExecutor()\n",
    "\n",
    "# Register simulation executable with executor\n",
    "sim_app = os.path.join(os.getcwd(), \"forces.x\")\n",
    "exctr.register_app(full_path=sim_app, app_name=\"forces\")"
   ]
  },
  {
   "cell_type": "markdown",
   "metadata": {},
   "source": [
    "We instantiate our `MPIExecutor` in the calling script.\n",
    "\n",
    "Registering an application is as easy as providing the full file-path and giving\n",
    "it a memorable name. This Executor will later be retrieved within our simulation\n",
    "function to launch the registered app.\n",
    "\n",
    "Next define the `libE_specs`, `sim_specs` and `gen_specs` data structures:"
   ]
  },
  {
   "cell_type": "code",
   "execution_count": null,
   "metadata": {},
   "outputs": [],
   "source": [
    "# Global settings - including creating directories for each simulation\n",
    "libE_specs = LibeSpecs(\n",
    "    nworkers=2,\n",
    "    sim_dirs_make=True,\n",
    ")\n",
    "\n",
    "gen_specs = GenSpecs(\n",
    "    gen_f=uniform_random_sample,\n",
    "    outputs=[(\"x\", float, (1,))],\n",
    "    user={\n",
    "        \"lb\": np.array([1000]),  # min particles\n",
    "        \"ub\": np.array([3000]),  # max particles\n",
    "        \"gen_batch_size\": 8,\n",
    "    },\n",
    ")\n",
    "\n",
    "sim_specs = SimSpecs(\n",
    "    sim_f=run_forces,\n",
    "    inputs=[\"x\"],  # Name of input for sim_f (defined in gen_specs.outputs)\n",
    "    outputs=[(\"energy\", float)],\n",
    ")"
   ]
  },
  {
   "cell_type": "markdown",
   "metadata": {},
   "source": [
    "We set ``exit_criteria`` initialize the ensemble and give each worker a random stream: \n"
   ]
  },
  {
   "cell_type": "code",
   "execution_count": null,
   "metadata": {},
   "outputs": [],
   "source": [
    "# Instruct libEnsemble to exit after this many simulations\n",
    "exit_criteria = ExitCriteria(sim_max=8)\n",
    "\n",
    "# Initialize ensemble object, passing executor.\n",
    "ensemble = Ensemble(\n",
    "    executor=exctr,\n",
    "    libE_specs=libE_specs,\n",
    "    gen_specs=gen_specs,\n",
    "    sim_specs=sim_specs,\n",
    "    exit_criteria=exit_criteria,\n",
    ")\n",
    "\n",
    "# Seed random streams for each worker, particularly for gen_f\n",
    "ensemble.add_random_streams()"
   ]
  },
  {
   "cell_type": "markdown",
   "metadata": {},
   "source": [
    "Now we are ready to run. The cleanup() function makes sure a re-run will work."
   ]
  },
  {
   "cell_type": "code",
   "execution_count": null,
   "metadata": {},
   "outputs": [],
   "source": [
    "# Clean up any previous outputs and launch libEnsemble\n",
    "cleanup()\n",
    "H, persis_info, flag = ensemble.run()\n",
    "\n",
    "# See results\n",
    "pprint(H[[\"sim_id\", \"x\", \"energy\"]])"
   ]
  },
  {
   "cell_type": "markdown",
   "metadata": {},
   "source": [
    "## Output files\n",
    "\n",
    "That's it! As can be seen, with libEnsemble, it's relatively easy to get started with launching applications. Behind the scenes, libEnsemble evaluates default MPI runners and available resources and divides them among the workers.\n",
    "\n",
    "This completes our calling script and simulation function.\n",
    "\n",
    "Output files for each simulation will appear under the `ensemble` directory. Overall workflow information should appear in `libE_stats.txt` and `ensemble.log` as usual."
   ]
  },
  {
   "cell_type": "code",
   "execution_count": null,
   "metadata": {},
   "outputs": [],
   "source": [
    "# Print libE_stats.txt\n",
    "with open(\"libE_stats.txt\", \"r\") as file:\n",
    "    print(file.read())"
   ]
  },
  {
   "cell_type": "markdown",
   "metadata": {},
   "source": [
    "The file `ensemble.log` contains the MPI run lines for each simulation."
   ]
  },
  {
   "cell_type": "code",
   "execution_count": null,
   "metadata": {},
   "outputs": [],
   "source": [
    "# Show my run-lines\n",
    "with open(\"ensemble.log\", \"r\") as file:\n",
    "    for line in file:\n",
    "        if \"Launching\" in line:\n",
    "            colon_index = line.index(\":\", line.index(\"Launching\"))\n",
    "            print(line[colon_index + 1 :].strip())"
   ]
  },
  {
   "cell_type": "markdown",
   "metadata": {},
   "source": [
    "If you were running on a multi-node system, the nodes would be shown here also.\n",
    "\n",
    "If you have multiple cores, and remove the `num_procs=1` from the `exctr.submit()` line,\n",
    "then the cores on your system should be divided equally among the two workers. For this\n",
    "you need at least one core per process."
   ]
  },
  {
   "cell_type": "markdown",
   "metadata": {},
   "source": [
    "**That concludes this tutorial.**\n",
    "\n",
    "Each of these example files can be found in the repository in ``examples/tutorials/forces_with_executor``\n",
    "\n",
    "For further experimentation, we recommend trying out this libEnsemble tutorial\n",
    "workflow on a cluster or multi-node system, since libEnsemble can also manage\n",
    "those resources and is developed to coordinate computations at huge scales.\n",
    "Please feel free to contact us or open an issue on GitHub if this tutorial\n",
    "workflow doesn't work properly on your cluster or other compute resource."
   ]
  },
  {
   "cell_type": "markdown",
   "metadata": {},
   "source": [
    "Exercise\n",
    "--------\n",
    "Using an input file for simulations.\n",
    "\n",
    "Many applications read an input file instead of being given parameters directly on the run line.\n",
    "\n",
    "We will use `jinja2` to parameterize a templated file for each simulation\n",
    "\n",
    "You may need to install jinja2."
   ]
  },
  {
   "cell_type": "code",
   "execution_count": null,
   "metadata": {},
   "outputs": [],
   "source": [
    "!pip install jinja2"
   ]
  },
  {
   "cell_type": "markdown",
   "metadata": {},
   "source": [
    "Now we can make a templated input file."
   ]
  },
  {
   "cell_type": "code",
   "execution_count": null,
   "metadata": {},
   "outputs": [],
   "source": [
    "# Define the content of the input file\n",
    "input_content = \"\"\"# Our input file - remember we are using particles as seed also for simplicity.\n",
    "num_particles = {{particles}}\n",
    "num_steps = 10\n",
    "rand_seed = {{particles}}\n",
    "\"\"\"\n",
    "\n",
    "# Write the content to a file\n",
    "with open(\"forces_input\", \"w\") as file:\n",
    "    file.write(input_content)\n",
    "\n",
    "# Lets see our forces_input file\n",
    "with open(\"forces_input\", \"r\") as file:\n",
    "    content = file.read()\n",
    "    print(content)"
   ]
  },
  {
   "cell_type": "markdown",
   "metadata": {},
   "source": [
    "During the run, libEnsemble will copy this templated input file to each simulation directory.\n",
    "\n",
    "Now we will modify our simulation function that is run on each worker. We will read in the templated input file and then use `jinja2` to write it back to file with the parameters for the current simulation.\n",
    "\n",
    "For `exctr.submit()` we remove `app_args` as **forces.x** will read from an input file called `forces_input` if it exists. If needed `app_args` could contain the name of the input file or any string to be placed after the application name on the run line."
   ]
  },
  {
   "cell_type": "code",
   "execution_count": null,
   "metadata": {},
   "outputs": [],
   "source": [
    "import numpy as np\n",
    "import jinja2\n",
    "\n",
    "# Optional status codes to display in libE_stats.txt for each gen or sim\n",
    "from libensemble.message_numbers import WORKER_DONE, TASK_FAILED\n",
    "\n",
    "\n",
    "def set_input_file_params(H, sim_specs, ints=False):\n",
    "    \"\"\"\n",
    "    This is a general function to parameterize the input file with any inputs\n",
    "    from sim_specs[\"in\"]\n",
    "\n",
    "    Often sim_specs_in[\"x\"] may be multi-dimensional, where each dimension\n",
    "    corresponds to a different input name in sim_specs[\"user\"][\"input_names\"]).\n",
    "    Effectively an unpacking of \"x\"\n",
    "    \"\"\"\n",
    "    input_file = sim_specs[\"user\"][\"input_filename\"]\n",
    "    input_values = {}\n",
    "    for i, name in enumerate(sim_specs[\"user\"][\"input_names\"]):\n",
    "        value = int(H[\"x\"][0][i]) if ints else H[\"x\"][0][i]\n",
    "        input_values[name] = value\n",
    "    with open(input_file, \"r\") as f:\n",
    "        template = jinja2.Template(f.read())\n",
    "    with open(input_file, \"w\") as f:\n",
    "        f.write(template.render(input_values))\n",
    "\n",
    "\n",
    "def run_forces_using_file(H, persis_info, sim_specs, libE_info):\n",
    "    calc_status = 0\n",
    "\n",
    "    # Construct input file for simulation\n",
    "    input_file = sim_specs[\"user\"][\"input_filename\"]\n",
    "    set_input_file_params(H, sim_specs, ints=True)\n",
    "\n",
    "    # Retrieve our MPI Executor\n",
    "    exctr = libE_info[\"executor\"]\n",
    "\n",
    "    # Submit our forces app for execution.\n",
    "    task = exctr.submit(app_name=\"forces\", num_procs=1)  # app_args removed\n",
    "\n",
    "    # Block until the task finishes\n",
    "    task.wait(timeout=60)\n",
    "\n",
    "    output, calc_status = read_output(sim_specs)\n",
    "\n",
    "    # Return final information to worker, for reporting to manager\n",
    "    return output, persis_info, calc_status"
   ]
  },
  {
   "cell_type": "markdown",
   "metadata": {},
   "source": [
    "Time to modify our calling code, clean up, and rerun.\n",
    "\n",
    "Assuming the original ensemble has been run above, we can just update `libE_specs` and `sim_specs` as below, and reset the random number seed for the generator (for reproducible output).\n",
    "\n",
    "`sim_dir_copy_files` can be a full path or, as in our case, a relative path (it is in the current directory).\n",
    "\n",
    "`sim_specs[\"user\"]` fields are used in the simulation function to extract names of variables in the templated file."
   ]
  },
  {
   "cell_type": "code",
   "execution_count": null,
   "metadata": {},
   "outputs": [],
   "source": [
    "# Note the added option sim_dir_copy_files - a list of files to be copied to each simulation dir.\n",
    "input_file = \"forces_input\"\n",
    "\n",
    "# Add a field to libE_specs\n",
    "ensemble.libE_specs.sim_dir_copy_files = [input_file]\n",
    "\n",
    "ensemble.sim_specs = SimSpecs(\n",
    "    sim_f=run_forces_using_file,\n",
    "    inputs=[\"x\"],  # Name of input for sim_f (defined in gen_specs.outputs)\n",
    "    outputs=[(\"energy\", float)],\n",
    "    user={\"input_filename\": input_file, \"input_names\": [\"particles\"]},\n",
    ")\n",
    "\n",
    "# To reset random number seed in the generator\n",
    "ensemble.add_random_streams()\n",
    "\n",
    "# Clean up any previous outputs and launch libEnsemble\n",
    "cleanup()\n",
    "H, persis_info, flag = ensemble.run()\n",
    "\n",
    "# See results\n",
    "pprint(H[[\"sim_id\", \"x\", \"energy\"]])"
   ]
  },
  {
   "cell_type": "markdown",
   "metadata": {},
   "source": [
    "The templated `sim_dir_copy_files` option is a list of files to be copied to each simulation directory. \n",
    "\n",
    "Note: An alternative if there are multiple input files is to use the `sim_input_dir` option. The specified directory, and any files therein, is used as the basis for each simulation directory. \n",
    "\n",
    "Finally, lets have a look at the simulation directories that were created."
   ]
  },
  {
   "cell_type": "code",
   "execution_count": null,
   "metadata": {
    "scrolled": false
   },
   "outputs": [],
   "source": [
    "! ls -l ensemble/sim*"
   ]
  }
 ],
 "metadata": {
  "kernelspec": {
   "display_name": "Python 3",
   "name": "python3"
  },
  "language_info": {
   "name": "python"
  }
 },
 "nbformat": 4,
 "nbformat_minor": 2
}

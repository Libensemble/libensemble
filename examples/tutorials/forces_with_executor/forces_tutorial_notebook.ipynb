{
 "cells": [
  {
   "cell_type": "markdown",
   "metadata": {},
   "source": [
    "# Executor with Electrostatic Forces\n",
    "\n",
    "This tutorial highlights the capability to run and monitor user\n",
    "applications using a libEnsemble Executor.\n",
    "\n",
    "Our calling script registers a compiled MPI program that simulates\n",
    "electrostatic forces between a collection of particles. The simulator function\n",
    "launches instances of this executable and reads the result from an output file.\n",
    "\n",
    "libEnsemble's MPI Executor can automatically detect available MPI runners and \n",
    "resources, and by default, divides them equally among workers.\n",
    "\n",
    "**Note that for notebooks** the multiprocessing start method should be set to\n",
    "`fork` (default on Linux). To use with `spawn` (default on Windows and macOS),\n",
    "use the `multiprocess` library.\n",
    "\n",
    "Let's make sure libEnsemble is installed."
   ]
  },
  {
   "cell_type": "code",
   "execution_count": null,
   "metadata": {},
   "outputs": [],
   "source": [
    "pip install libensemble"
   ]
  },
  {
   "cell_type": "markdown",
   "metadata": {},
   "source": [
    "## Getting Started\n",
    "\n",
    "**An MPI distribution is required to use this notebook**.\n",
    "\n",
    "We recommend using `mpich`, but `Open MPI` can be used. If running in a hosted\n",
    "notebook with Open MPI, the following my be required."
   ]
  },
  {
   "cell_type": "code",
   "execution_count": null,
   "metadata": {},
   "outputs": [],
   "source": [
    "import os\n",
    "\n",
    "os.environ['OMPI_ALLOW_RUN_AS_ROOT'] = '1'\n",
    "os.environ['OMPI_ALLOW_RUN_AS_ROOT_CONFIRM'] = '1'"
   ]
  },
  {
   "cell_type": "markdown",
   "metadata": {},
   "source": [
    "The simulation source code ``forces.c`` can be obtained directly from the\n",
    "libEnsemble repository.\n",
    "\n",
    "Assuming MPI and its C compiler ``mpicc`` are available, obtain\n",
    "``forces.c`` and compile it into an executable (``forces.x``) with:  "
   ]
  },
  {
   "cell_type": "code",
   "execution_count": null,
   "metadata": {},
   "outputs": [],
   "source": [
    "import subprocess\n",
    "import requests\n",
    "\n",
    "# This line is not necessary if forces.c is present in the current directory.\n",
    "url = \"https://raw.githubusercontent.com/Libensemble/libensemble/main/libensemble/tests/scaling_tests/forces/forces_app/forces.c\"\n",
    "forces = requests.get(url)\n",
    "\n",
    "open(\"./forces.c\", \"wb\").write(forces.content)\n",
    "\n",
    "# Compile the forces MPI executable.\n",
    "subprocess.run(\"mpicc -O3 -o forces.x forces.c -lm\".split())"
   ]
  },
  {
   "cell_type": "markdown",
   "metadata": {},
   "source": [
    "### Clean Up\n",
    "\n",
    "Before we start let's ensure any output from previous runs is cleaned up."
   ]
  },
  {
   "cell_type": "code",
   "execution_count": null,
   "metadata": {},
   "outputs": [],
   "source": [
    "# To rerun this notebook, we need to delete the ensemble directory.\n",
    "import os\n",
    "import shutil\n",
    "output_files = [\"ensemble.log\", \"libE_stats.txt\"]\n",
    "for file_path in output_files:\n",
    "    try:\n",
    "        os.remove(file_path)\n",
    "    except:\n",
    "        pass\n",
    "try:\n",
    "    shutil.rmtree(\"ensemble\")\n",
    "except:\n",
    "    pass"
   ]
  },
  {
   "cell_type": "markdown",
   "metadata": {},
   "source": [
    "## Simulation Function\n",
    "\n",
    "Our simulation function is where we'll use libEnsemble's executor to run our MPI application. We'll wait until this task's finished  and then send the results back to the manager.\n",
    "\n",
    "Running the following cell will load the function into memory. In a standard Python environment (outside of a notebook), this function would be in a separate file (e.g., ``forces_simf.py``) and imported in your calling script."
   ]
  },
  {
   "cell_type": "code",
   "execution_count": null,
   "metadata": {},
   "outputs": [],
   "source": [
    "import numpy as np\n",
    "\n",
    "# Optional status codes to display in libE_stats.txt for each gen or sim\n",
    "from libensemble.message_numbers import WORKER_DONE, TASK_FAILED\n",
    "\n",
    "\n",
    "def run_forces(H, persis_info, sim_specs, libE_info):\n",
    "    calc_status = 0\n",
    "\n",
    "    # Parse out num particles, from generator function\n",
    "    particles = str(int(H[\"x\"][0][0]))\n",
    "\n",
    "    # num particles, timesteps, also using num particles as seed\n",
    "    args = particles + \" \" + str(10) + \" \" + particles\n",
    "\n",
    "    # Retrieve our MPI Executor\n",
    "    exctr = libE_info[\"executor\"]\n",
    "\n",
    "    # Submit our forces app for execution.\n",
    "    # Exclude num_procs to use all cores available to worker\n",
    "    task = exctr.submit(app_name=\"forces\", app_args=args, num_procs=1)\n",
    "\n",
    "    # Block until the task finishes\n",
    "    task.wait(timeout=60)\n",
    "    \n",
    "    # Stat file to check for bad runs\n",
    "    statfile = \"forces.stat\"\n",
    "\n",
    "    # Try loading final energy reading, set the sim's status\n",
    "    try:\n",
    "        data = np.loadtxt(statfile)\n",
    "        final_energy = data[-1]\n",
    "        calc_status = WORKER_DONE\n",
    "    except Exception:\n",
    "        final_energy = np.nan\n",
    "        calc_status = TASK_FAILED\n",
    "\n",
    "    # Define our output array,  populate with energy reading\n",
    "    outspecs = sim_specs[\"out\"]\n",
    "    output = np.zeros(1, dtype=outspecs)\n",
    "    output[\"energy\"][0] = final_energy\n",
    "\n",
    "    # Return final information to worker, for reporting to manager\n",
    "    return output, persis_info, calc_status"
   ]
  },
  {
   "cell_type": "markdown",
   "metadata": {},
   "source": [
    "The `run_forces` function retrieves the generated number of particles from ``H`` and\n",
    "constructs an argument string for our launched application. The particle count doubles\n",
    "up as a random number seed here.\n",
    "\n",
    "After submitting the \"forces\" app for execution, a `Task` object is returned.\n",
    "This object can be polled, killed, and evaluated in a variety of helpful ways.\n",
    "For now, we're satisfied with waiting for the task to complete via `task.wait()`.\n",
    "\n",
    "Our application produces a `forces.stat` file that contains energy outputs from the simulation.\n",
    "\n",
    "To complete our simulation function, parse the last energy value from the output file into\n",
    "a local output History array, and if successful, set the simulation function's exit\n",
    "status ``calc_status`` to `WORKER_DONE`. Otherwise, send back `NAN` and a `TASK_FAILED`\n",
    "status:\n",
    "\n",
    "`calc_status` is an optional return value and will be displayed in the `libE_stats.txt` log file."
   ]
  },
  {
   "cell_type": "markdown",
   "metadata": {},
   "source": [
    "## Calling Script\n",
    "\n",
    "Let's begin by writing our calling script to parameterize our simulation and\n",
    "generation functions and run the ensemble."
   ]
  },
  {
   "cell_type": "code",
   "execution_count": null,
   "metadata": {},
   "outputs": [],
   "source": [
    "#!/usr/bin/env python\n",
    "import os\n",
    "import numpy as np\n",
    "# from forces_simf import run_forces  # Sim func from current dir\n",
    "\n",
    "from libensemble import Ensemble\n",
    "from libensemble.gen_funcs.sampling import uniform_random_sample\n",
    "from libensemble.tools import add_unique_random_streams\n",
    "from libensemble.executors import MPIExecutor\n",
    "\n",
    "# Initialize MPI Executor\n",
    "exctr = MPIExecutor()\n",
    "\n",
    "# Register simulation executable with executor\n",
    "sim_app = os.path.join(os.getcwd(), \"forces.x\")\n",
    "exctr.register_app(full_path=sim_app, app_name=\"forces\")"
   ]
  },
  {
   "cell_type": "markdown",
   "metadata": {},
   "source": [
    "We instantiate our `MPIExecutor` in the calling script.\n",
    "\n",
    "Registering an application is as easy as providing the full file-path and giving\n",
    "it a memorable name. This Executor will later be retrieved within our simulation\n",
    "function to launch the registered app.\n",
    "\n",
    "Next define the `libE_specs`, `sim_specs` and `gen_specs` data structures:"
   ]
  },
  {
   "cell_type": "code",
   "execution_count": null,
   "metadata": {},
   "outputs": [],
   "source": [
    "nworkers = 2\n",
    "\n",
    "# Global settings - including creating directories for each simulation\n",
    "libE_specs = {\n",
    "    \"nworkers\": nworkers,\n",
    "    \"comms\": \"local\",\n",
    "    \"sim_dirs_make\": True,\n",
    "}\n",
    "\n",
    "# State the sim_f, inputs, outputs\n",
    "sim_specs = {\n",
    "    \"sim_f\": run_forces,\n",
    "    \"in\": [\"x\"],  # Name of input for sim_f (defined in gen_specs[\"out\"])\n",
    "    \"out\": [(\"energy\", float)],\n",
    "}\n",
    "\n",
    "# State the gen_f, inputs, outputs, additional parameters\n",
    "gen_specs = {\n",
    "    \"gen_f\": uniform_random_sample,\n",
    "    \"out\": [(\"x\", float, (1,))],\n",
    "    \"user\": {\n",
    "        \"lb\": np.array([1000]),  # min particles\n",
    "        \"ub\": np.array([3000]),  # max particles\n",
    "        \"gen_batch_size\": 8,\n",
    "    },\n",
    "}"
   ]
  },
  {
   "cell_type": "markdown",
   "metadata": {},
   "source": [
    "After configuring ``persis_info`` and ``exit_criteria``, we initialize the ensemble: \n"
   ]
  },
  {
   "cell_type": "code",
   "execution_count": null,
   "metadata": {},
   "outputs": [],
   "source": [
    "# Instruct libEnsemble to exit after this many simulations\n",
    "exit_criteria = {\"sim_max\": 8}\n",
    "\n",
    "# Seed random streams for each worker, particularly for gen_f\n",
    "persis_info = add_unique_random_streams({}, nworkers + 1)\n",
    "\n",
    "# Initialize ensemble object, passing executor.\n",
    "ensemble = Ensemble(executor=exctr,\n",
    "                    libE_specs=libE_specs,\n",
    "                    gen_specs=gen_specs,\n",
    "                    sim_specs=sim_specs,\n",
    "                    exit_criteria=exit_criteria,\n",
    "                    persis_info=persis_info,\n",
    "                   )\n",
    "\n"
   ]
  },
  {
   "cell_type": "markdown",
   "metadata": {},
   "source": [
    "Now we are ready to run. Remember to re-run you need to run the \"Clean Up\" cell again."
   ]
  },
  {
   "cell_type": "code",
   "execution_count": null,
   "metadata": {},
   "outputs": [],
   "source": [
    "# Launch libEnsemble\n",
    "H, persis_info, flag = ensemble.run()\n",
    "\n",
    "# See results\n",
    "print(H[[\"sim_id\", \"x\", \"energy\"]])"
   ]
  },
  {
   "cell_type": "markdown",
   "metadata": {},
   "source": [
    "## Output files\n",
    "\n",
    "That's it! As can be seen, with libEnsemble, it's relatively easy to get started with launching applications. Behind the scenes, libEnsemble evaluates default MPI runners and available resources and divides them among the workers.\n",
    "\n",
    "This completes our calling script and simulation function.\n",
    "\n",
    "Output files for each simulation will appear under the `ensemble` directory. Overall workflow information should appear in `libE_stats.txt` and `ensemble.log` as usual."
   ]
  },
  {
   "cell_type": "code",
   "execution_count": null,
   "metadata": {},
   "outputs": [],
   "source": [
    "# Print libE_stats.txt\n",
    "with open(\"libE_stats.txt\", \"r\") as file:\n",
    "    print(file.read())"
   ]
  },
  {
   "cell_type": "markdown",
   "metadata": {},
   "source": [
    "The file `ensemble.log` contains the MPI run lines for each simulation.\n",
    "Note that the cores on your system should be divided equally among the two workers."
   ]
  },
  {
   "cell_type": "code",
   "execution_count": null,
   "metadata": {},
   "outputs": [],
   "source": [
    "# Show my run-lines\n",
    "with open(\"ensemble.log\", 'r') as file:\n",
    "    for line in file:\n",
    "        if \"Launching\" in line:\n",
    "            colon_index = line.index(\":\", line.index(\"Launching\"))\n",
    "            print(line[colon_index + 1:].strip())"
   ]
  },
  {
   "cell_type": "markdown",
   "metadata": {},
   "source": [
    "That concludes this tutorial.\n",
    "\n",
    "Each of these example files can be found in the repository in ``examples/tutorials/forces_with_executor``\n",
    "\n",
    "For further experimentation, we recommend trying out this libEnsemble tutorial\n",
    "workflow on a cluster or multi-node system, since libEnsemble can also manage\n",
    "those resources and is developed to coordinate computations at huge scales.\n",
    "Please feel free to contact us or open an issue on GitHub if this tutorial\n",
    "workflow doesn't work properly on your cluster or other compute resource."
   ]
  }
 ],
 "metadata": {
  "kernelspec": {
   "display_name": "Python 3",
   "name": "python3"
  },
  "language_info": {
   "name": "python"
  }
 },
 "nbformat": 4,
 "nbformat_minor": 2
}

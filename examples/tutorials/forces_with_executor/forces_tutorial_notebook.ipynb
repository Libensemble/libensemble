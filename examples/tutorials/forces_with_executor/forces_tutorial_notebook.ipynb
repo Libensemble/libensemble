{
 "cells": [
  {
   "cell_type": "markdown",
   "metadata": {},
   "source": [
    "Executor with Electrostatic Forces\n",
    "----------------------------------------\n",
    "\n",
    "This tutorial highlights libEnsemble's capability to execute\n",
    "and monitor external scripts or user applications within simulation or generator\n",
    "functions using a libEnsemble Executor. In this tutorial,\n",
    "our calling script registers a compiled executable that simulates\n",
    "electrostatic forces between a collection of particles. The simulator function\n",
    "launches instances of this executable and reads output files to determine\n",
    "if the run was successful.\n",
    "\n",
    "It is possible to use ``subprocess`` calls from Python to issue\n",
    "commands such as ``jsrun`` or ``aprun`` to run applications. Unfortunately,\n",
    "hard-coding such commands within user scripts isn't portable.\n",
    "Furthermore, many systems like Argonne's Theta do not\n",
    "allow libEnsemble to submit additional tasks from the compute nodes. On these\n",
    "systems, a proxy launch mechanism (such as Balsam) is required.\n",
    "libEnsemble's Executors were developed to directly address such issues.\n",
    "\n",
    "In particular, libEnsemble's MPI Executor can automatically\n",
    "detect available MPI runners and resources, and by default divide them equally among workers.\n",
    "\n",
    "Note that this notebook uses the dictionary interface for libEnsemble, while the the online\n",
    "tutorial uses the class interface, and a persistent generator.\n",
    "\n",
    "\n",
    "Getting Started\n",
    "------------------\n",
    "\n",
    "**An MPI distribution is required to use this notebook locally**.\n",
    "\n",
    "The simulation source code ``forces.c`` can be obtained directly from the\n",
    "libEnsemble repository.\n",
    "\n",
    "Assuming MPI and its C compiler ``mpicc`` are available, obtain\n",
    "``forces.c`` and compile it into an executable (``forces.x``) with:"
   ]
  },
  {
   "cell_type": "code",
   "execution_count": null,
   "metadata": {},
   "outputs": [],
   "source": [
    "import subprocess\n",
    "import requests\n",
    "\n",
    "url = \"https://raw.githubusercontent.com/Libensemble/libensemble/main/libensemble/tests/scaling_tests/forces/forces_app/forces.c\"\n",
    "forces = requests.get(url)\n",
    "open(\"./forces.c\", \"wb\").write(forces.content)\n",
    "\n",
    "subprocess.run(\"mpicc -O3 -o forces.x forces.c -lm\".split())"
   ]
  },
  {
   "cell_type": "markdown",
   "metadata": {},
   "source": [
    "Calling Script\n",
    "----------------\n",
    "\n",
    "__*Note: Several of these stand-alone code-cells may not execute properly until each necessary component is defined. The complete libEnsemble routine should still function as expected.*__\n",
    "\n",
    "Let's begin by writing our calling script to parameterize our simulation and\n",
    "generation functions and call libEnsemble. Create a Python file called `run_libe_forces.py` containing:"
   ]
  },
  {
   "cell_type": "code",
   "execution_count": null,
   "metadata": {},
   "outputs": [],
   "source": [
    "#!/usr/bin/env python\n",
    "import os\n",
    "import numpy as np\n",
    "from forces_simf import run_forces  # Sim func from current dir\n",
    "\n",
    "from libensemble.libE import libE\n",
    "from libensemble.gen_funcs.sampling import uniform_random_sample\n",
    "from libensemble.tools import add_unique_random_streams, parse_args\n",
    "from libensemble.executors import MPIExecutor\n",
    "\n",
    "nworkers = 2\n",
    "libE_specs = {\"nworkers\": nworkers, \"comms\": \"local\"}\n",
    "\n",
    "# Initialize MPI Executor instance\n",
    "exctr = MPIExecutor()\n",
    "\n",
    "# Register simulation executable with executor\n",
    "sim_app = os.path.join(os.getcwd(), \"forces.x\")\n",
    "exctr.register_app(full_path=sim_app, app_name=\"forces\")"
   ]
  },
  {
   "cell_type": "markdown",
   "metadata": {},
   "source": [
    "On line 15, we instantiate our ``MPIExecutor`` class instance,\n",
    "which can optionally be customized by specifying alternative MPI runners. The\n",
    "auto-detected default should be sufficient.\n",
    "\n",
    "Registering an application is as easy as providing the full file-path and giving\n",
    "it a memorable name. This Executor instance will later be retrieved within our\n",
    "simulation function to launch the registered app.\n",
    "\n",
    "Next define the ``sim_specs`` and ``gen_specs`` data structures. Recall that these\n",
    "are used to specify to libEnsemble what user functions and input/output fields to\n",
    "expect, and also to parameterize function instances without hard-coding:"
   ]
  },
  {
   "cell_type": "code",
   "execution_count": null,
   "metadata": {},
   "outputs": [],
   "source": [
    "# State the sim_f, inputs, outputs\n",
    "sim_specs = {\n",
    "    \"sim_f\": run_forces,  # sim_f, imported above\n",
    "    \"in\": [\"x\"],  # Name of input for sim_f\n",
    "    \"out\": [(\"energy\", float)],  # Name, type of output from sim_f\n",
    "}\n",
    "\n",
    "# State the gen_f, inputs, outputs, additional parameters\n",
    "gen_specs = {\n",
    "    \"gen_f\": uniform_random_sample,  # Generator function\n",
    "    \"in\": [\"sim_id\"],  # Generator input\n",
    "    \"out\": [(\"x\", float, (1,))],  # Name, type, and size of data from gen_f\n",
    "    \"user\": {\n",
    "        \"lb\": np.array([1000]),  # User parameters for the gen_f\n",
    "        \"ub\": np.array([3000]),\n",
    "        \"gen_batch_size\": 8,\n",
    "    },\n",
    "}"
   ]
  },
  {
   "cell_type": "markdown",
   "metadata": {},
   "source": [
    "Our generation function will generate random numbers of particles (between\n",
    "the ``\"lb\"`` and ``\"ub\"`` bounds) for our simulation function to evaluate via our\n",
    "registered application.\n",
    "\n",
    "The following additional ``libE_specs`` setting instructs libEnsemble's workers\n",
    "to each create and work within a separate directory each time they call a simulation\n",
    "function. This helps organize output and also helps prevents workers from overwriting\n",
    "previous results:"
   ]
  },
  {
   "cell_type": "code",
   "execution_count": null,
   "metadata": {},
   "outputs": [],
   "source": [
    "# Create and work inside separate per-simulation directories\n",
    "libE_specs[\"sim_dirs_make\"] = True"
   ]
  },
  {
   "cell_type": "markdown",
   "metadata": {},
   "source": [
    "After configuring ``persis_info`` and\n",
    "``exit_criteria``, we initialize libEnsemble\n",
    "by calling the primary ``libE()`` routine:"
   ]
  },
  {
   "cell_type": "code",
   "execution_count": null,
   "metadata": {},
   "outputs": [],
   "source": [
    "# Instruct libEnsemble to exit after this many simulations\n",
    "exit_criteria = {\"sim_max\": 8}\n",
    "\n",
    "# Seed random streams for each worker, particularly for gen_f\n",
    "persis_info = add_unique_random_streams({}, nworkers + 1)\n",
    "\n",
    "# Launch libEnsemble\n",
    "H, persis_info, flag = libE(sim_specs, gen_specs, exit_criteria, persis_info=persis_info, libE_specs=libE_specs)"
   ]
  },
  {
   "cell_type": "markdown",
   "metadata": {},
   "source": [
    "Simulation Function\n",
    "-------------------\n",
    "\n",
    "Our simulation function is where we'll use libEnsemble's executor to configure and submit\n",
    "our application for execution. We'll poll this task's state while\n",
    "it runs, and once we've detected it has finished we'll send any results or\n",
    "exit statuses back to the manager.\n",
    "\n",
    "Create another Python file named ``forces_simf.py`` containing the following\n",
    "for starters:"
   ]
  },
  {
   "cell_type": "code",
   "execution_count": null,
   "metadata": {},
   "outputs": [],
   "source": [
    "import numpy as np\n",
    "\n",
    "# To retrieve our MPI Executor instance\n",
    "from libensemble.executors.executor import Executor\n",
    "\n",
    "# Optional status codes to display in libE_stats.txt for each gen or sim\n",
    "from libensemble.message_numbers import WORKER_DONE, TASK_FAILED\n",
    "\n",
    "\n",
    "def run_forces(H, persis_info, sim_specs, libE_info):\n",
    "    calc_status = 0\n",
    "\n",
    "    # Parse out num particles, from generator function\n",
    "    particles = str(int(H[\"x\"][0][0]))\n",
    "\n",
    "    # num particles, timesteps, also using num particles as seed\n",
    "    args = particles + \" \" + str(10) + \" \" + particles\n",
    "\n",
    "    # Retrieve our MPI Executor instance\n",
    "    exctr = Executor.executor\n",
    "\n",
    "    # Submit our forces app for execution\n",
    "    task = exctr.submit(app_name=\"forces\", app_args=args)\n",
    "\n",
    "    # Block until the task finishes\n",
    "    task.wait(timeout=60)\n",
    "    \n",
    "    # Stat file to check for bad runs\n",
    "    statfile = \"forces.stat\"\n",
    "\n",
    "    # Try loading final energy reading, set the sim's status\n",
    "    try:\n",
    "        data = np.loadtxt(statfile)\n",
    "        final_energy = data[-1]\n",
    "        calc_status = WORKER_DONE\n",
    "    except Exception:\n",
    "        final_energy = np.nan\n",
    "        calc_status = TASK_FAILED\n",
    "\n",
    "    # Define our output array,  populate with energy reading\n",
    "    outspecs = sim_specs[\"out\"]\n",
    "    output = np.zeros(1, dtype=outspecs)\n",
    "    output[\"energy\"][0] = final_energy\n",
    "\n",
    "    # Return final information to worker, for reporting to manager\n",
    "    return output, persis_info, calc_status"
   ]
  },
  {
   "cell_type": "markdown",
   "metadata": {},
   "source": [
    "We retrieve the generated number of particles from ``H`` and construct an argument string for our launched application. The particle count doubles up as a random number seed here.\n",
    "\n",
    "We then retrieve our Executor instance from the class definition.\n",
    "\n",
    "After submitting the \"forces\" app for execution, a ``Task`` object is returned.\n",
    "This object can be polled, killed, and evaluated in a variety of helpful ways.\n",
    "For now, we're satisfied with waiting for the task to complete via ``task.wait()``.\n",
    "\n",
    "We can assume that afterward, any results are now available to parse. Our application\n",
    "produces a ``forces.stat`` file that contains energy outputs from the simulation.\n",
    "\n",
    "To complete our simulation function, parse the last energy value from the output file into\n",
    "a local output History array, and if successful, set the simulation function's exit status ``calc_status``\n",
    "to ``WORKER_DONE``. Otherwise, send back ``NAN`` and a ``TASK_FAILED`` status:\n",
    "\n",
    "calc_status is an optional return value and will be displayed in the libE_stats.txt log file.\n",
    "\n",
    "That's it! As can be seen, with libEnsemble, it's relatively easy to get started with launching applications. Behind the scenes, libEnsemble evaluates default MPI runners and available resources and divides them among the workers.\n",
    "\n",
    "This completes our calling script and simulation function.\n",
    "\n",
    "Output files---including forces.stat and files containing stdout and stderr content for each task---should appear in the current working directory. Overall workflow information should appear in libE_stats.txt and ensemble.log as usual.\n",
    "\n",
    "For example, my libE_stats.txt resembled::\n"
   ]
  },
  {
   "cell_type": "raw",
   "metadata": {},
   "source": [
    "Manager     : Starting ensemble at: 2024-05-16 17:10:58.969\n",
    "Worker     1: Gen no     1: gen Time: 0.001 Start: ... End: ... Status: Not set\n",
    "Worker     1: sim_id     0: sim Time: 0.274 Start: ... End: ... Status: Completed\n",
    "Worker     1: sim_id     2: sim Time: 0.122 Start: ... End: ... Status: Completed\n",
    "Worker     2: sim_id     1: sim Time: 0.424 Start: ... End: ... Status: Completed\n",
    "Worker     2: sim_id     4: sim Time: 0.158 Start: ... End: ... Status: Completed\n",
    "Worker     2: sim_id     5: sim Time: 0.207 Start: ... End: ... Status: Completed\n",
    "Worker     1: sim_id     3: sim Time: 0.408 Start: ... End: ... Status: Completed\n",
    "Worker     1: sim_id     7: sim Time: 0.137 Start: ... End: ... Status: Completed\n",
    "Worker     2: sim_id     6: sim Time: 0.317 Start: ... End: ... Status: Completed\n",
    "Manager     : Exiting ensemble at: 2024-05-16 17:11:00.096 Time Taken: 1.127"
   ]
  },
  {
   "cell_type": "markdown",
   "metadata": {},
   "source": [
    "Where ``status`` is set based on the simulation function's returned ``calc_status``.\n",
    "\n",
    "The file ``ensemble.log`` contains the mpirun lines for each simulation."
   ]
  },
  {
   "cell_type": "markdown",
   "metadata": {},
   "source": [
    "Note again that the four cores were divided equally among two workers.\n",
    "\n",
    "That concludes this tutorial.\n",
    "Each of these example files can be found in the repository in ``examples/tutorials/forces_with_executor``\n",
    "\n",
    "For further experimentation, we recommend trying out this libEnsemble tutorial\n",
    "workflow on a cluster or multi-node system, since libEnsemble can also manage\n",
    "those resources and is developed to coordinate computations at huge scales.\n",
    "Please feel free to contact us or open an issue on GitHub if this tutorial\n",
    "workflow doesn't work properly on your cluster or other compute resource."
   ]
  }
 ],
 "metadata": {
  "language_info": {
   "name": "python"
  }
 },
 "nbformat": 4,
 "nbformat_minor": 2
}

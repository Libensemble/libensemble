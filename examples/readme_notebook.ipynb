{
 "cells": [
  {
   "cell_type": "markdown",
   "metadata": {},
   "source": [
    "## Before Beginning\n",
    "\n",
    "**Note that for notebooks** the multiprocessing start method should be set to `fork` (default on Linux).\n",
    "To use with `spawn` (default on Windows and macOS), use the `multiprocess` library.\n",
    "\n",
    "Lets check libEnsemble is installed."
   ]
  },
  {
   "cell_type": "code",
   "execution_count": null,
   "metadata": {},
   "outputs": [],
   "source": [
    "!pip install libensemble"
   ]
  },
  {
   "cell_type": "markdown",
   "metadata": {},
   "source": [
    "## Random sample with simple function\n",
    "\n",
    "libEnsemble initializes a *manager* process and as many *workers*  as the user requests.\n",
    "\n",
    "For this example, our generator will produce 2D uniform randomly sampled values, and our simulator will calculate the six_hump_camel function for each. "
   ]
  },
  {
   "cell_type": "code",
   "execution_count": null,
   "metadata": {},
   "outputs": [],
   "source": [
    "import numpy as np\n",
    "import pprint\n",
    "\n",
    "from libensemble import Ensemble\n",
    "from libensemble.gen_funcs.sampling import uniform_random_sample\n",
    "from libensemble.sim_funcs.six_hump_camel import six_hump_camel\n",
    "from libensemble.specs import ExitCriteria, GenSpecs, LibeSpecs, SimSpecs\n",
    "\n",
    "if __name__ == \"__main__\":\n",
    "\n",
    "    nworkers = 4\n",
    "    libE_specs = LibeSpecs(nworkers=nworkers)\n",
    "\n",
    "    sim_specs = SimSpecs(\n",
    "        sim_f=six_hump_camel,\n",
    "        inputs=[\"x\"],\n",
    "        outputs=[(\"f\", float)],\n",
    "    )\n",
    "\n",
    "    gen_specs = GenSpecs(\n",
    "        gen_f=uniform_random_sample,\n",
    "        outputs=[(\"x\", float, 2)],\n",
    "        user={\n",
    "            \"gen_batch_size\": 50,\n",
    "            \"lb\": np.array([-3, -2]),\n",
    "            \"ub\": np.array([3, 2]),\n",
    "        },\n",
    "    )\n",
    "\n",
    "    exit_criteria = ExitCriteria(sim_max=100)\n",
    "\n",
    "    sampling = Ensemble(\n",
    "        libE_specs=libE_specs,\n",
    "        sim_specs=sim_specs,\n",
    "        gen_specs=gen_specs,\n",
    "        exit_criteria=exit_criteria,\n",
    "    )\n",
    "\n",
    "    sampling.add_random_streams()\n",
    "    H, persis_info, flag = sampling.run()\n",
    "\n",
    "    # Print first 10 lines of input/output values\n",
    "    if sampling.is_manager:\n",
    "        pprint.pp(H[[\"x\", \"f\"]][:10])\n",
    "        sampling.save_output(\"simple\")"
   ]
  },
  {
   "cell_type": "markdown",
   "metadata": {},
   "source": [
    "Note that the `sampling.is_manager` is not required here. However, this script could also be run via the mpirun interface. In that case, it would be necessary to ensure only the manager process outputs results."
   ]
  }
 ],
 "metadata": {
  "kernelspec": {
   "display_name": "Python 3",
   "name": "python3"
  },
  "language_info": {
   "name": "python"
  }
 },
 "nbformat": 4,
 "nbformat_minor": 2
}

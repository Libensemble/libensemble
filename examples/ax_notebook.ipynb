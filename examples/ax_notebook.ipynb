{
 "cells": [
  {
   "cell_type": "markdown",
   "metadata": {},
   "source": [
    "## Before Beginning\n",
    "\n",
    "**Note that for notebooks** the multiprocessing start method should be set to `fork` (default on Linux).\n",
    "To use with `spawn` (default on Windows and macOS), use the `multiprocess` library.\n",
    "\n",
    "Lets check libEnsemble is installed. Pandas is also used in the Ax generator."
   ]
  },
  {
   "cell_type": "code",
   "execution_count": null,
   "metadata": {},
   "outputs": [],
   "source": [
    "!pip install libensemble\n",
    "!pip install pandas"
   ]
  },
  {
   "cell_type": "markdown",
   "metadata": {},
   "source": [
    "## Multi-fidelity optimization with Ax\n",
    "\n",
    "This is an example of Bayesian optimization using a multi-fidelity workflow.\n",
    "\n",
    "The Ax generator uses an MTGP (Multi-Task Gaussian Process), which tracks the correlation between high and low fidelity simulation outputs."
   ]
  },
  {
   "cell_type": "code",
   "execution_count": null,
   "metadata": {},
   "outputs": [],
   "source": [
    "import numpy as np\n",
    "import pprint\n",
    "\n",
    "from libensemble.libE import libE\n",
    "from libensemble.message_numbers import WORKER_DONE\n",
    "from libensemble.alloc_funcs.start_only_persistent import only_persistent_gens\n",
    "from libensemble.gen_funcs.persistent_ax_multitask import persistent_gp_mt_ax_gen_f\n",
    "from libensemble.tools import add_unique_random_streams, parse_args, save_libE_output"
   ]
  },
  {
   "cell_type": "code",
   "execution_count": null,
   "metadata": {},
   "outputs": [],
   "source": [
    "def run_simulation(H, persis_info, sim_specs, libE_info):\n",
    "    calc_status = 0\n",
    "    \n",
    "    # Extract input parameters\n",
    "    values = list(H[\"x\"][0])\n",
    "    x0 = values[0]\n",
    "    x1 = values[1]\n",
    "    # Extract fidelity parameter\n",
    "    task = H[\"task\"][0]\n",
    "    if task == \"expensive_model\":\n",
    "        z = 8\n",
    "    elif task == \"cheap_model\":\n",
    "        z = 1\n",
    "\n",
    "    libE_output = np.zeros(1, dtype=sim_specs[\"out\"])\n",
    "    calc_status = WORKER_DONE\n",
    "\n",
    "    # Function that depends on the resolution parameter\n",
    "    libE_output[\"f\"] = -(x0 + 10 * np.cos(x0 + 0.1 * z)) * (x1 + 5 * np.cos(x1 - 0.2 * z))\n",
    "\n",
    "    return libE_output, persis_info, calc_status"
   ]
  },
  {
   "cell_type": "code",
   "execution_count": null,
   "metadata": {},
   "outputs": [],
   "source": [
    "if __name__ == \"__main__\":\n",
    "    nworkers = 5\n",
    "    libE_specs = {\"nworkers\": nworkers, \"comms\": \"local\"}\n",
    "\n",
    "    mt_params = {\n",
    "        \"name_hifi\": \"expensive_model\",\n",
    "        \"name_lofi\": \"cheap_model\",\n",
    "        \"n_init_hifi\": 4,\n",
    "        \"n_init_lofi\": 4,\n",
    "        \"n_opt_hifi\": 2,\n",
    "        \"n_opt_lofi\": 4,\n",
    "    }\n",
    "\n",
    "    sim_specs = {\n",
    "        \"sim_f\": run_simulation,\n",
    "        \"in\": [\"x\", \"task\"],\n",
    "        \"out\": [(\"f\", float)],\n",
    "    }\n",
    "\n",
    "    gen_specs = {\n",
    "        # Generator function. Will randomly generate new sim inputs 'x'.\n",
    "        \"gen_f\": persistent_gp_mt_ax_gen_f,\n",
    "        # Generator input. This is a RNG, no need for inputs.\n",
    "        \"in\": [\"sim_id\", \"x\", \"f\", \"task\"],\n",
    "        \"persis_in\": [\"sim_id\", \"x\", \"f\", \"task\"],\n",
    "        \"out\": [\n",
    "            # parameters to input into the simulation.\n",
    "            (\"x\", float, (2,)),\n",
    "            (\"task\", str, max([len(mt_params[\"name_hifi\"]), len(mt_params[\"name_lofi\"])])),\n",
    "            (\"resource_sets\", int),\n",
    "        ],\n",
    "        \"user\": {\n",
    "            \"range\": [1, 8],\n",
    "            # Total max number of sims running concurrently.\n",
    "            \"gen_batch_size\": nworkers - 1,\n",
    "            # Lower bound for the n parameters.\n",
    "            \"lb\": np.array([0, 0]),\n",
    "            # Upper bound for the n parameters.\n",
    "            \"ub\": np.array([15, 15]),\n",
    "        },\n",
    "    }\n",
    "    gen_specs[\"user\"] = {**gen_specs[\"user\"], **mt_params}\n",
    "\n",
    "    alloc_specs = {\n",
    "        \"alloc_f\": only_persistent_gens,\n",
    "        \"user\": {\"async_return\": False},\n",
    "    }\n",
    "\n",
    "    # Exit criteria\n",
    "    exit_criteria = {\"sim_max\": 20}  # Exit after running sim_max simulations\n",
    "\n",
    "    # Create a different random number stream for each worker and the manager\n",
    "    persis_info = add_unique_random_streams({}, nworkers + 1)\n",
    "\n",
    "    # Run LibEnsemble, and store results in history array H\n",
    "    H, persis_info, flag = libE(\n",
    "        sim_specs, gen_specs, exit_criteria, persis_info, alloc_specs, libE_specs\n",
    "    )\n",
    "    \n",
    "    # Print 20 lines of input/output values\n",
    "    pprint.pp(H[[\"x\", \"f\"]][:20])"
   ]
  },
  {
   "cell_type": "markdown",
   "metadata": {},
   "source": [
    "This is a simple example of a multi-fidelity workflow. Note that when using the executor to run applications, this can be combined with libEnsemble's dynamic resources feature to vary resources (nodes/cores/GPUs) given to each worker for each simulation."
   ]
  }
 ],
 "metadata": {
  "kernelspec": {
   "display_name": "Python 3",
   "name": "python3"
  },
  "language_info": {
   "name": "python"
  }
 },
 "nbformat": 4,
 "nbformat_minor": 2
}
